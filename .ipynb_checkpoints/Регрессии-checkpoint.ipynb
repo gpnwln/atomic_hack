{
 "cells": [
  {
   "cell_type": "markdown",
   "id": "GtfSubLKx04G",
   "metadata": {
    "id": "GtfSubLKx04G"
   },
   "source": [
    "# Импорт библиотек"
   ]
  },
  {
   "cell_type": "code",
   "execution_count": null,
   "id": "f7dbc7bc-ed42-44a6-9156-42738a5fa35c",
   "metadata": {
    "id": "f7dbc7bc-ed42-44a6-9156-42738a5fa35c"
   },
   "outputs": [],
   "source": [
    "# Для обработки данных\n",
    "import numpy as np\n",
    "import pandas as pd\n",
    "\n",
    "# Для стандартизации данных\n",
    "from sklearn.preprocessing import StandardScaler\n",
    "\n",
    "# Для построения графиков\n",
    "import matplotlib.pyplot as plt\n",
    "import statsmodels.api as sm\n",
    "import seaborn as sns\n",
    "\n",
    "# Для вычисления значений метрик, разделения выборки, линейной регрессии\n",
    "from sklearn.metrics import mean_squared_error, mean_absolute_error, r2_score, accuracy_score\n",
    "from sklearn.model_selection import train_test_split\n",
    "from sklearn.linear_model import LinearRegression\n",
    "\n",
    "# Для ридж-регрессии\n",
    "from sklearn.linear_model import Ridge\n",
    "\n",
    "# Для полиномиальной регрессии\n",
    "from sklearn.model_selection import cross_val_score\n",
    "from sklearn.preprocessing import PolynomialFeatures\n",
    "from sklearn.pipeline import make_pipeline\n",
    "\n",
    "# Для кривой обучаемости\n",
    "from sklearn.model_selection import learning_curve\n",
    "\n",
    "# Для Лассо-регрессии\n",
    "from sklearn.linear_model import Lasso\n",
    "\n",
    "# Переопределим стили matplotlib по умолчанию на стили Seaborn\n",
    "sns.set()"
   ]
  },
  {
   "cell_type": "markdown",
   "id": "YD4mZcGCy2o6",
   "metadata": {
    "id": "YD4mZcGCy2o6"
   },
   "source": [
    "# Исследование и обработка данных"
   ]
  },
  {
   "cell_type": "markdown",
   "id": "uKw8CtmLyLSt",
   "metadata": {
    "id": "uKw8CtmLyLSt"
   },
   "source": [
    "## Загрузка исходных данных"
   ]
  },
  {
   "cell_type": "code",
   "execution_count": 2,
   "id": "723744c8-587a-4f97-8c5d-44dcc9375e9a",
   "metadata": {
    "id": "723744c8-587a-4f97-8c5d-44dcc9375e9a",
    "outputId": "7e8bc7b0-9fb5-43d1-a2d1-7bc79004f0fb"
   },
   "outputs": [
    {
     "data": {
      "text/html": [
       "<div>\n",
       "<style scoped>\n",
       "    .dataframe tbody tr th:only-of-type {\n",
       "        vertical-align: middle;\n",
       "    }\n",
       "\n",
       "    .dataframe tbody tr th {\n",
       "        vertical-align: top;\n",
       "    }\n",
       "\n",
       "    .dataframe thead th {\n",
       "        text-align: right;\n",
       "    }\n",
       "</style>\n",
       "<table border=\"1\" class=\"dataframe\">\n",
       "  <thead>\n",
       "    <tr style=\"text-align: right;\">\n",
       "      <th></th>\n",
       "      <th>IC50, mmg/ml</th>\n",
       "      <th>CC50-MDCK, mmg/ml</th>\n",
       "      <th>SI</th>\n",
       "      <th>HeavyAtomCount</th>\n",
       "      <th>NHOHCount</th>\n",
       "      <th>NOCount</th>\n",
       "      <th>NumHAфcceptors</th>\n",
       "      <th>NumHDonors</th>\n",
       "      <th>NumHeteroatoms</th>\n",
       "      <th>NumRotatableBonds</th>\n",
       "      <th>NumValenceElectrons</th>\n",
       "      <th>NumAromaticRings</th>\n",
       "      <th>NumAliphaticHeterocycles</th>\n",
       "      <th>RingCount</th>\n",
       "      <th>MW</th>\n",
       "      <th>LogP</th>\n",
       "      <th>MR</th>\n",
       "      <th>TPSA</th>\n",
       "    </tr>\n",
       "  </thead>\n",
       "  <tbody>\n",
       "    <tr>\n",
       "      <th>0</th>\n",
       "      <td>2.7</td>\n",
       "      <td>500.0</td>\n",
       "      <td>185.185185</td>\n",
       "      <td>14</td>\n",
       "      <td>1</td>\n",
       "      <td>2</td>\n",
       "      <td>2</td>\n",
       "      <td>1</td>\n",
       "      <td>2</td>\n",
       "      <td>2</td>\n",
       "      <td>80</td>\n",
       "      <td>0</td>\n",
       "      <td>0</td>\n",
       "      <td>2</td>\n",
       "      <td>195.306</td>\n",
       "      <td>2.26590</td>\n",
       "      <td>58.6168</td>\n",
       "      <td>32.59</td>\n",
       "    </tr>\n",
       "    <tr>\n",
       "      <th>1</th>\n",
       "      <td>9.9</td>\n",
       "      <td>144.0</td>\n",
       "      <td>14.545455</td>\n",
       "      <td>18</td>\n",
       "      <td>0</td>\n",
       "      <td>2</td>\n",
       "      <td>2</td>\n",
       "      <td>0</td>\n",
       "      <td>2</td>\n",
       "      <td>5</td>\n",
       "      <td>104</td>\n",
       "      <td>0</td>\n",
       "      <td>0</td>\n",
       "      <td>2</td>\n",
       "      <td>250.430</td>\n",
       "      <td>3.61540</td>\n",
       "      <td>79.3190</td>\n",
       "      <td>15.60</td>\n",
       "    </tr>\n",
       "    <tr>\n",
       "      <th>2</th>\n",
       "      <td>8.3</td>\n",
       "      <td>500.0</td>\n",
       "      <td>60.240964</td>\n",
       "      <td>16</td>\n",
       "      <td>0</td>\n",
       "      <td>2</td>\n",
       "      <td>2</td>\n",
       "      <td>0</td>\n",
       "      <td>2</td>\n",
       "      <td>3</td>\n",
       "      <td>92</td>\n",
       "      <td>0</td>\n",
       "      <td>0</td>\n",
       "      <td>2</td>\n",
       "      <td>222.376</td>\n",
       "      <td>2.83520</td>\n",
       "      <td>70.0850</td>\n",
       "      <td>15.60</td>\n",
       "    </tr>\n",
       "    <tr>\n",
       "      <th>3</th>\n",
       "      <td>39.4</td>\n",
       "      <td>143.0</td>\n",
       "      <td>3.629442</td>\n",
       "      <td>17</td>\n",
       "      <td>0</td>\n",
       "      <td>3</td>\n",
       "      <td>3</td>\n",
       "      <td>0</td>\n",
       "      <td>3</td>\n",
       "      <td>3</td>\n",
       "      <td>98</td>\n",
       "      <td>0</td>\n",
       "      <td>0</td>\n",
       "      <td>2</td>\n",
       "      <td>239.359</td>\n",
       "      <td>2.30600</td>\n",
       "      <td>67.6630</td>\n",
       "      <td>29.54</td>\n",
       "    </tr>\n",
       "    <tr>\n",
       "      <th>4</th>\n",
       "      <td>25.8</td>\n",
       "      <td>500.0</td>\n",
       "      <td>19.379845</td>\n",
       "      <td>19</td>\n",
       "      <td>0</td>\n",
       "      <td>2</td>\n",
       "      <td>1</td>\n",
       "      <td>0</td>\n",
       "      <td>2</td>\n",
       "      <td>5</td>\n",
       "      <td>110</td>\n",
       "      <td>0</td>\n",
       "      <td>0</td>\n",
       "      <td>2</td>\n",
       "      <td>265.465</td>\n",
       "      <td>3.76000</td>\n",
       "      <td>83.6644</td>\n",
       "      <td>12.36</td>\n",
       "    </tr>\n",
       "    <tr>\n",
       "      <th>...</th>\n",
       "      <td>...</td>\n",
       "      <td>...</td>\n",
       "      <td>...</td>\n",
       "      <td>...</td>\n",
       "      <td>...</td>\n",
       "      <td>...</td>\n",
       "      <td>...</td>\n",
       "      <td>...</td>\n",
       "      <td>...</td>\n",
       "      <td>...</td>\n",
       "      <td>...</td>\n",
       "      <td>...</td>\n",
       "      <td>...</td>\n",
       "      <td>...</td>\n",
       "      <td>...</td>\n",
       "      <td>...</td>\n",
       "      <td>...</td>\n",
       "      <td>...</td>\n",
       "    </tr>\n",
       "    <tr>\n",
       "      <th>1343</th>\n",
       "      <td>300.3</td>\n",
       "      <td>300.3</td>\n",
       "      <td>1.000000</td>\n",
       "      <td>11</td>\n",
       "      <td>0</td>\n",
       "      <td>4</td>\n",
       "      <td>4</td>\n",
       "      <td>0</td>\n",
       "      <td>4</td>\n",
       "      <td>2</td>\n",
       "      <td>64</td>\n",
       "      <td>0</td>\n",
       "      <td>1</td>\n",
       "      <td>1</td>\n",
       "      <td>159.185</td>\n",
       "      <td>-0.50840</td>\n",
       "      <td>39.2750</td>\n",
       "      <td>38.77</td>\n",
       "    </tr>\n",
       "    <tr>\n",
       "      <th>1344</th>\n",
       "      <td>13.2</td>\n",
       "      <td>448.3</td>\n",
       "      <td>34.000000</td>\n",
       "      <td>16</td>\n",
       "      <td>0</td>\n",
       "      <td>3</td>\n",
       "      <td>3</td>\n",
       "      <td>0</td>\n",
       "      <td>3</td>\n",
       "      <td>5</td>\n",
       "      <td>90</td>\n",
       "      <td>1</td>\n",
       "      <td>0</td>\n",
       "      <td>1</td>\n",
       "      <td>224.300</td>\n",
       "      <td>2.93552</td>\n",
       "      <td>64.0430</td>\n",
       "      <td>39.44</td>\n",
       "    </tr>\n",
       "    <tr>\n",
       "      <th>1345</th>\n",
       "      <td>24.0</td>\n",
       "      <td>330.5</td>\n",
       "      <td>13.800000</td>\n",
       "      <td>11</td>\n",
       "      <td>1</td>\n",
       "      <td>1</td>\n",
       "      <td>1</td>\n",
       "      <td>1</td>\n",
       "      <td>1</td>\n",
       "      <td>0</td>\n",
       "      <td>64</td>\n",
       "      <td>0</td>\n",
       "      <td>0</td>\n",
       "      <td>2</td>\n",
       "      <td>154.253</td>\n",
       "      <td>2.19350</td>\n",
       "      <td>45.2358</td>\n",
       "      <td>20.23</td>\n",
       "    </tr>\n",
       "    <tr>\n",
       "      <th>1346</th>\n",
       "      <td>16.7</td>\n",
       "      <td>492.7</td>\n",
       "      <td>29.600000</td>\n",
       "      <td>16</td>\n",
       "      <td>1</td>\n",
       "      <td>3</td>\n",
       "      <td>3</td>\n",
       "      <td>1</td>\n",
       "      <td>3</td>\n",
       "      <td>6</td>\n",
       "      <td>90</td>\n",
       "      <td>1</td>\n",
       "      <td>0</td>\n",
       "      <td>1</td>\n",
       "      <td>224.300</td>\n",
       "      <td>3.16672</td>\n",
       "      <td>63.8428</td>\n",
       "      <td>50.44</td>\n",
       "    </tr>\n",
       "    <tr>\n",
       "      <th>1347</th>\n",
       "      <td>7.3</td>\n",
       "      <td>530.6</td>\n",
       "      <td>72.800000</td>\n",
       "      <td>17</td>\n",
       "      <td>0</td>\n",
       "      <td>3</td>\n",
       "      <td>3</td>\n",
       "      <td>0</td>\n",
       "      <td>3</td>\n",
       "      <td>7</td>\n",
       "      <td>96</td>\n",
       "      <td>1</td>\n",
       "      <td>0</td>\n",
       "      <td>1</td>\n",
       "      <td>238.327</td>\n",
       "      <td>3.46972</td>\n",
       "      <td>68.7300</td>\n",
       "      <td>39.44</td>\n",
       "    </tr>\n",
       "  </tbody>\n",
       "</table>\n",
       "<p>1348 rows × 18 columns</p>\n",
       "</div>"
      ],
      "text/plain": [
       "      IC50, mmg/ml  CC50-MDCK, mmg/ml          SI  HeavyAtomCount  NHOHCount  \\\n",
       "0              2.7              500.0  185.185185              14          1   \n",
       "1              9.9              144.0   14.545455              18          0   \n",
       "2              8.3              500.0   60.240964              16          0   \n",
       "3             39.4              143.0    3.629442              17          0   \n",
       "4             25.8              500.0   19.379845              19          0   \n",
       "...            ...                ...         ...             ...        ...   \n",
       "1343         300.3              300.3    1.000000              11          0   \n",
       "1344          13.2              448.3   34.000000              16          0   \n",
       "1345          24.0              330.5   13.800000              11          1   \n",
       "1346          16.7              492.7   29.600000              16          1   \n",
       "1347           7.3              530.6   72.800000              17          0   \n",
       "\n",
       "      NOCount  NumHAфcceptors  NumHDonors  NumHeteroatoms  NumRotatableBonds  \\\n",
       "0           2               2           1               2                  2   \n",
       "1           2               2           0               2                  5   \n",
       "2           2               2           0               2                  3   \n",
       "3           3               3           0               3                  3   \n",
       "4           2               1           0               2                  5   \n",
       "...       ...             ...         ...             ...                ...   \n",
       "1343        4               4           0               4                  2   \n",
       "1344        3               3           0               3                  5   \n",
       "1345        1               1           1               1                  0   \n",
       "1346        3               3           1               3                  6   \n",
       "1347        3               3           0               3                  7   \n",
       "\n",
       "      NumValenceElectrons  NumAromaticRings  NumAliphaticHeterocycles  \\\n",
       "0                      80                 0                         0   \n",
       "1                     104                 0                         0   \n",
       "2                      92                 0                         0   \n",
       "3                      98                 0                         0   \n",
       "4                     110                 0                         0   \n",
       "...                   ...               ...                       ...   \n",
       "1343                   64                 0                         1   \n",
       "1344                   90                 1                         0   \n",
       "1345                   64                 0                         0   \n",
       "1346                   90                 1                         0   \n",
       "1347                   96                 1                         0   \n",
       "\n",
       "      RingCount       MW     LogP       MR   TPSA  \n",
       "0             2  195.306  2.26590  58.6168  32.59  \n",
       "1             2  250.430  3.61540  79.3190  15.60  \n",
       "2             2  222.376  2.83520  70.0850  15.60  \n",
       "3             2  239.359  2.30600  67.6630  29.54  \n",
       "4             2  265.465  3.76000  83.6644  12.36  \n",
       "...         ...      ...      ...      ...    ...  \n",
       "1343          1  159.185 -0.50840  39.2750  38.77  \n",
       "1344          1  224.300  2.93552  64.0430  39.44  \n",
       "1345          2  154.253  2.19350  45.2358  20.23  \n",
       "1346          1  224.300  3.16672  63.8428  50.44  \n",
       "1347          1  238.327  3.46972  68.7300  39.44  \n",
       "\n",
       "[1348 rows x 18 columns]"
      ]
     },
     "execution_count": 2,
     "metadata": {},
     "output_type": "execute_result"
    }
   ],
   "source": [
    "data = pd.read_excel('sample_no_outliers.xlsx')\n",
    "data"
   ]
  },
  {
   "cell_type": "markdown",
   "id": "KGsHxWJgzejs",
   "metadata": {
    "id": "KGsHxWJgzejs"
   },
   "source": [
    "## Обработка данных"
   ]
  },
  {
   "cell_type": "code",
   "execution_count": 3,
   "id": "70e32524-9b10-4233-b358-b81164d5279e",
   "metadata": {
    "id": "70e32524-9b10-4233-b358-b81164d5279e",
    "outputId": "894051ae-03f8-4b1f-b8a8-e008ab320f69"
   },
   "outputs": [
    {
     "data": {
      "text/plain": [
       "(1348, 18)"
      ]
     },
     "execution_count": 3,
     "metadata": {},
     "output_type": "execute_result"
    }
   ],
   "source": [
    "data.shape"
   ]
  },
  {
   "cell_type": "code",
   "execution_count": 4,
   "id": "31a16512-6a3d-4bbb-8ce9-16ecd1d5e30f",
   "metadata": {
    "id": "31a16512-6a3d-4bbb-8ce9-16ecd1d5e30f",
    "outputId": "846f34eb-6ce2-4058-fc31-43b2c363c00e"
   },
   "outputs": [
    {
     "data": {
      "text/html": [
       "<div>\n",
       "<style scoped>\n",
       "    .dataframe tbody tr th:only-of-type {\n",
       "        vertical-align: middle;\n",
       "    }\n",
       "\n",
       "    .dataframe tbody tr th {\n",
       "        vertical-align: top;\n",
       "    }\n",
       "\n",
       "    .dataframe thead th {\n",
       "        text-align: right;\n",
       "    }\n",
       "</style>\n",
       "<table border=\"1\" class=\"dataframe\">\n",
       "  <thead>\n",
       "    <tr style=\"text-align: right;\">\n",
       "      <th></th>\n",
       "      <th>IC50, mmg/ml</th>\n",
       "      <th>CC50-MDCK, mmg/ml</th>\n",
       "      <th>SI</th>\n",
       "      <th>HeavyAtomCount</th>\n",
       "      <th>NHOHCount</th>\n",
       "      <th>NOCount</th>\n",
       "      <th>NumHAфcceptors</th>\n",
       "      <th>NumHDonors</th>\n",
       "      <th>NumHeteroatoms</th>\n",
       "      <th>NumRotatableBonds</th>\n",
       "      <th>NumValenceElectrons</th>\n",
       "      <th>NumAromaticRings</th>\n",
       "      <th>NumAliphaticHeterocycles</th>\n",
       "      <th>RingCount</th>\n",
       "      <th>MW</th>\n",
       "      <th>LogP</th>\n",
       "      <th>MR</th>\n",
       "      <th>TPSA</th>\n",
       "    </tr>\n",
       "  </thead>\n",
       "  <tbody>\n",
       "    <tr>\n",
       "      <th>count</th>\n",
       "      <td>1348.000000</td>\n",
       "      <td>1348.000000</td>\n",
       "      <td>1348.000000</td>\n",
       "      <td>1348.000000</td>\n",
       "      <td>1348.000000</td>\n",
       "      <td>1348.000000</td>\n",
       "      <td>1348.000000</td>\n",
       "      <td>1348.000000</td>\n",
       "      <td>1348.000000</td>\n",
       "      <td>1348.000000</td>\n",
       "      <td>1348.000000</td>\n",
       "      <td>1348.000000</td>\n",
       "      <td>1348.000000</td>\n",
       "      <td>1348.000000</td>\n",
       "      <td>1348.000000</td>\n",
       "      <td>1348.000000</td>\n",
       "      <td>1348.000000</td>\n",
       "      <td>1348.000000</td>\n",
       "    </tr>\n",
       "    <tr>\n",
       "      <th>mean</th>\n",
       "      <td>52.939256</td>\n",
       "      <td>153.598714</td>\n",
       "      <td>24.678429</td>\n",
       "      <td>27.286350</td>\n",
       "      <td>1.517804</td>\n",
       "      <td>5.281899</td>\n",
       "      <td>4.813798</td>\n",
       "      <td>1.435460</td>\n",
       "      <td>6.025964</td>\n",
       "      <td>4.223294</td>\n",
       "      <td>144.698813</td>\n",
       "      <td>1.916914</td>\n",
       "      <td>0.763353</td>\n",
       "      <td>3.851632</td>\n",
       "      <td>383.195248</td>\n",
       "      <td>3.848960</td>\n",
       "      <td>104.801568</td>\n",
       "      <td>71.312455</td>\n",
       "    </tr>\n",
       "    <tr>\n",
       "      <th>std</th>\n",
       "      <td>93.563232</td>\n",
       "      <td>158.439339</td>\n",
       "      <td>55.865003</td>\n",
       "      <td>11.110014</td>\n",
       "      <td>1.935595</td>\n",
       "      <td>3.418679</td>\n",
       "      <td>3.274643</td>\n",
       "      <td>1.867032</td>\n",
       "      <td>3.608339</td>\n",
       "      <td>3.274135</td>\n",
       "      <td>59.457044</td>\n",
       "      <td>1.544849</td>\n",
       "      <td>0.962361</td>\n",
       "      <td>1.568606</td>\n",
       "      <td>154.806624</td>\n",
       "      <td>1.949588</td>\n",
       "      <td>41.182323</td>\n",
       "      <td>51.862859</td>\n",
       "    </tr>\n",
       "    <tr>\n",
       "      <th>min</th>\n",
       "      <td>0.000414</td>\n",
       "      <td>0.031928</td>\n",
       "      <td>0.000000</td>\n",
       "      <td>8.000000</td>\n",
       "      <td>0.000000</td>\n",
       "      <td>0.000000</td>\n",
       "      <td>0.000000</td>\n",
       "      <td>0.000000</td>\n",
       "      <td>0.000000</td>\n",
       "      <td>0.000000</td>\n",
       "      <td>42.000000</td>\n",
       "      <td>0.000000</td>\n",
       "      <td>0.000000</td>\n",
       "      <td>0.000000</td>\n",
       "      <td>110.156000</td>\n",
       "      <td>-3.065800</td>\n",
       "      <td>28.088500</td>\n",
       "      <td>0.000000</td>\n",
       "    </tr>\n",
       "    <tr>\n",
       "      <th>25%</th>\n",
       "      <td>3.300000</td>\n",
       "      <td>30.000000</td>\n",
       "      <td>1.764706</td>\n",
       "      <td>20.000000</td>\n",
       "      <td>0.000000</td>\n",
       "      <td>3.000000</td>\n",
       "      <td>3.000000</td>\n",
       "      <td>0.000000</td>\n",
       "      <td>3.000000</td>\n",
       "      <td>2.000000</td>\n",
       "      <td>108.000000</td>\n",
       "      <td>1.000000</td>\n",
       "      <td>0.000000</td>\n",
       "      <td>3.000000</td>\n",
       "      <td>281.386000</td>\n",
       "      <td>2.773575</td>\n",
       "      <td>77.747975</td>\n",
       "      <td>34.890000</td>\n",
       "    </tr>\n",
       "    <tr>\n",
       "      <th>50%</th>\n",
       "      <td>11.850000</td>\n",
       "      <td>90.000000</td>\n",
       "      <td>4.900000</td>\n",
       "      <td>24.500000</td>\n",
       "      <td>1.000000</td>\n",
       "      <td>4.000000</td>\n",
       "      <td>4.000000</td>\n",
       "      <td>1.000000</td>\n",
       "      <td>5.000000</td>\n",
       "      <td>4.000000</td>\n",
       "      <td>130.000000</td>\n",
       "      <td>2.000000</td>\n",
       "      <td>0.000000</td>\n",
       "      <td>4.000000</td>\n",
       "      <td>347.423500</td>\n",
       "      <td>3.678760</td>\n",
       "      <td>94.522350</td>\n",
       "      <td>59.080000</td>\n",
       "    </tr>\n",
       "    <tr>\n",
       "      <th>75%</th>\n",
       "      <td>57.125000</td>\n",
       "      <td>300.000000</td>\n",
       "      <td>19.809701</td>\n",
       "      <td>31.000000</td>\n",
       "      <td>2.000000</td>\n",
       "      <td>7.000000</td>\n",
       "      <td>6.000000</td>\n",
       "      <td>2.000000</td>\n",
       "      <td>8.000000</td>\n",
       "      <td>5.000000</td>\n",
       "      <td>162.000000</td>\n",
       "      <td>3.000000</td>\n",
       "      <td>1.000000</td>\n",
       "      <td>5.000000</td>\n",
       "      <td>442.651500</td>\n",
       "      <td>4.879505</td>\n",
       "      <td>120.434350</td>\n",
       "      <td>92.080000</td>\n",
       "    </tr>\n",
       "    <tr>\n",
       "      <th>max</th>\n",
       "      <td>1000.000000</td>\n",
       "      <td>1039.000000</td>\n",
       "      <td>471.700000</td>\n",
       "      <td>82.000000</td>\n",
       "      <td>13.000000</td>\n",
       "      <td>21.000000</td>\n",
       "      <td>20.000000</td>\n",
       "      <td>11.000000</td>\n",
       "      <td>21.000000</td>\n",
       "      <td>30.000000</td>\n",
       "      <td>460.000000</td>\n",
       "      <td>7.000000</td>\n",
       "      <td>4.000000</td>\n",
       "      <td>10.000000</td>\n",
       "      <td>1159.370000</td>\n",
       "      <td>12.822200</td>\n",
       "      <td>290.422100</td>\n",
       "      <td>319.510000</td>\n",
       "    </tr>\n",
       "  </tbody>\n",
       "</table>\n",
       "</div>"
      ],
      "text/plain": [
       "       IC50, mmg/ml  CC50-MDCK, mmg/ml           SI  HeavyAtomCount  \\\n",
       "count   1348.000000        1348.000000  1348.000000     1348.000000   \n",
       "mean      52.939256         153.598714    24.678429       27.286350   \n",
       "std       93.563232         158.439339    55.865003       11.110014   \n",
       "min        0.000414           0.031928     0.000000        8.000000   \n",
       "25%        3.300000          30.000000     1.764706       20.000000   \n",
       "50%       11.850000          90.000000     4.900000       24.500000   \n",
       "75%       57.125000         300.000000    19.809701       31.000000   \n",
       "max     1000.000000        1039.000000   471.700000       82.000000   \n",
       "\n",
       "         NHOHCount      NOCount  NumHAфcceptors   NumHDonors  NumHeteroatoms  \\\n",
       "count  1348.000000  1348.000000     1348.000000  1348.000000     1348.000000   \n",
       "mean      1.517804     5.281899        4.813798     1.435460        6.025964   \n",
       "std       1.935595     3.418679        3.274643     1.867032        3.608339   \n",
       "min       0.000000     0.000000        0.000000     0.000000        0.000000   \n",
       "25%       0.000000     3.000000        3.000000     0.000000        3.000000   \n",
       "50%       1.000000     4.000000        4.000000     1.000000        5.000000   \n",
       "75%       2.000000     7.000000        6.000000     2.000000        8.000000   \n",
       "max      13.000000    21.000000       20.000000    11.000000       21.000000   \n",
       "\n",
       "       NumRotatableBonds  NumValenceElectrons  NumAromaticRings  \\\n",
       "count        1348.000000          1348.000000       1348.000000   \n",
       "mean            4.223294           144.698813          1.916914   \n",
       "std             3.274135            59.457044          1.544849   \n",
       "min             0.000000            42.000000          0.000000   \n",
       "25%             2.000000           108.000000          1.000000   \n",
       "50%             4.000000           130.000000          2.000000   \n",
       "75%             5.000000           162.000000          3.000000   \n",
       "max            30.000000           460.000000          7.000000   \n",
       "\n",
       "       NumAliphaticHeterocycles    RingCount           MW         LogP  \\\n",
       "count               1348.000000  1348.000000  1348.000000  1348.000000   \n",
       "mean                   0.763353     3.851632   383.195248     3.848960   \n",
       "std                    0.962361     1.568606   154.806624     1.949588   \n",
       "min                    0.000000     0.000000   110.156000    -3.065800   \n",
       "25%                    0.000000     3.000000   281.386000     2.773575   \n",
       "50%                    0.000000     4.000000   347.423500     3.678760   \n",
       "75%                    1.000000     5.000000   442.651500     4.879505   \n",
       "max                    4.000000    10.000000  1159.370000    12.822200   \n",
       "\n",
       "                MR         TPSA  \n",
       "count  1348.000000  1348.000000  \n",
       "mean    104.801568    71.312455  \n",
       "std      41.182323    51.862859  \n",
       "min      28.088500     0.000000  \n",
       "25%      77.747975    34.890000  \n",
       "50%      94.522350    59.080000  \n",
       "75%     120.434350    92.080000  \n",
       "max     290.422100   319.510000  "
      ]
     },
     "execution_count": 4,
     "metadata": {},
     "output_type": "execute_result"
    }
   ],
   "source": [
    "data.describe()"
   ]
  },
  {
   "cell_type": "markdown",
   "id": "iaJYsUJ-yd_E",
   "metadata": {
    "id": "iaJYsUJ-yd_E"
   },
   "source": [
    "## Стандартизация данных"
   ]
  },
  {
   "cell_type": "code",
   "execution_count": 5,
   "id": "736884af-3905-4b6a-8d9c-77a508dbf6d8",
   "metadata": {
    "id": "736884af-3905-4b6a-8d9c-77a508dbf6d8"
   },
   "outputs": [],
   "source": [
    "scaler = StandardScaler()\n",
    "X_scaled = scaler.fit_transform(data)"
   ]
  },
  {
   "cell_type": "markdown",
   "id": "oCYmEdFE0Dto",
   "metadata": {
    "id": "oCYmEdFE0Dto"
   },
   "source": [
    "# Подготовка к работе с моделями регрессии"
   ]
  },
  {
   "cell_type": "markdown",
   "id": "W8LsdyDNzrJI",
   "metadata": {
    "id": "W8LsdyDNzrJI"
   },
   "source": [
    "## Признаки для моделей"
   ]
  },
  {
   "cell_type": "code",
   "execution_count": 16,
   "id": "187b89b8-5510-4178-aa76-b7df8716305f",
   "metadata": {
    "id": "187b89b8-5510-4178-aa76-b7df8716305f"
   },
   "outputs": [],
   "source": [
    "y = data['SI']\n",
    "columns = ['HeavyAtomCount', 'NHOHCount', 'NOCount', 'NumHAфcceptors', 'NumHDonors', 'NumHeteroatoms', 'NumRotatableBonds', 'NumValenceElectrons', 'NumAromaticRings', 'NumAliphaticHeterocycles', 'RingCount']\n",
    "x1 = data['HeavyAtomCount']\n",
    "x2 = data['NHOHCount']\n",
    "x3 = data['NOCount']\n",
    "x4 = data['NumHAфcceptors']\n",
    "x5 = data['NumHDonors']\n",
    "x6 = data['NumHeteroatoms']\n",
    "x7 = data['NumRotatableBonds']\n",
    "x8 = data['NumValenceElectrons']\n",
    "x9 = data['NumAromaticRings']\n",
    "x10 = data['NumAliphaticHeterocycles']\n",
    "x11 = data['RingCount']\n",
    "x_all = data[columns]. copy ()"
   ]
  },
  {
   "cell_type": "markdown",
   "id": "4VjmcsBNzxdT",
   "metadata": {
    "id": "4VjmcsBNzxdT"
   },
   "source": [
    "Разбиваем данные на 3 выборки: обучающую, тестовую и валидационную"
   ]
  },
  {
   "cell_type": "code",
   "execution_count": 7,
   "id": "082d7efb-7835-4965-bb4f-bcd81a3ad31a",
   "metadata": {
    "id": "082d7efb-7835-4965-bb4f-bcd81a3ad31a"
   },
   "outputs": [],
   "source": [
    "X_train, X_test, y_train, y_test = train_test_split(data, y,  test_size=0.25, random_state=42)\n",
    "X_train, X_validation, y_train, y_validation = train_test_split(X_train, y_train,  test_size=0.2, random_state=42)"
   ]
  },
  {
   "cell_type": "markdown",
   "id": "e2c1a62b-ffc2-463c-bcf5-083dc072b7ab",
   "metadata": {
    "id": "e2c1a62b-ffc2-463c-bcf5-083dc072b7ab"
   },
   "source": [
    "## Функция для оценки метрик моделей"
   ]
  },
  {
   "cell_type": "code",
   "execution_count": 8,
   "id": "6e02e829-ecd2-403f-95bc-b4af1c7cfe73",
   "metadata": {
    "id": "6e02e829-ecd2-403f-95bc-b4af1c7cfe73"
   },
   "outputs": [],
   "source": [
    "def metriki(predictions, y_test):\n",
    "    mae = mean_absolute_error(y_test, predictions)\n",
    "    print(\"Реальная MAE = \", mae)\n",
    "    mse = mean_squared_error(y_test, predictions)\n",
    "    print(\"Реальная MSE = \", mse)\n",
    "    variance = np.var(y_test)\n",
    "    rmse = np.sqrt(mse / variance)\n",
    "    print(\"Относительная RMSE = \", rmse)\n",
    "    r2 = r2_score(y_test, predictions)\n",
    "    print(\"R2 = \", r2)"
   ]
  },
  {
   "cell_type": "markdown",
   "id": "8w-isldM0PSc",
   "metadata": {
    "id": "8w-isldM0PSc"
   },
   "source": [
    "# Модели регрессии"
   ]
  },
  {
   "cell_type": "markdown",
   "id": "fqJHdd3M0WRu",
   "metadata": {
    "id": "fqJHdd3M0WRu"
   },
   "source": [
    "## Линейная модель"
   ]
  },
  {
   "cell_type": "code",
   "execution_count": 21,
   "id": "95d253b1-a376-4eff-9222-1d2a646b2441",
   "metadata": {},
   "outputs": [],
   "source": [
    "x_for_train = X_train[columns]"
   ]
  },
  {
   "cell_type": "code",
   "execution_count": 23,
   "id": "eea2f437-2027-4237-bdaf-aff934dab848",
   "metadata": {
    "id": "eea2f437-2027-4237-bdaf-aff934dab848"
   },
   "outputs": [],
   "source": [
    "x = sm.add_constant(x_for_train)\n",
    "results = sm.OLS(y_train, x).fit()"
   ]
  },
  {
   "cell_type": "code",
   "execution_count": 24,
   "id": "31898a44-c2b4-4cd4-91da-6a89fc051872",
   "metadata": {
    "id": "31898a44-c2b4-4cd4-91da-6a89fc051872",
    "outputId": "aad29c3d-abf1-4fb6-e74f-92077f7c1a4d"
   },
   "outputs": [
    {
     "data": {
      "text/html": [
       "<table class=\"simpletable\">\n",
       "<caption>OLS Regression Results</caption>\n",
       "<tr>\n",
       "  <th>Dep. Variable:</th>           <td>SI</td>        <th>  R-squared:         </th> <td>   0.088</td>\n",
       "</tr>\n",
       "<tr>\n",
       "  <th>Model:</th>                   <td>OLS</td>       <th>  Adj. R-squared:    </th> <td>   0.076</td>\n",
       "</tr>\n",
       "<tr>\n",
       "  <th>Method:</th>             <td>Least Squares</td>  <th>  F-statistic:       </th> <td>   6.995</td>\n",
       "</tr>\n",
       "<tr>\n",
       "  <th>Date:</th>             <td>Sun, 22 Oct 2023</td> <th>  Prob (F-statistic):</th> <td>2.24e-11</td>\n",
       "</tr>\n",
       "<tr>\n",
       "  <th>Time:</th>                 <td>13:51:15</td>     <th>  Log-Likelihood:    </th> <td> -4378.2</td>\n",
       "</tr>\n",
       "<tr>\n",
       "  <th>No. Observations:</th>      <td>   808</td>      <th>  AIC:               </th> <td>   8780.</td>\n",
       "</tr>\n",
       "<tr>\n",
       "  <th>Df Residuals:</th>          <td>   796</td>      <th>  BIC:               </th> <td>   8837.</td>\n",
       "</tr>\n",
       "<tr>\n",
       "  <th>Df Model:</th>              <td>    11</td>      <th>                     </th>     <td> </td>   \n",
       "</tr>\n",
       "<tr>\n",
       "  <th>Covariance Type:</th>      <td>nonrobust</td>    <th>                     </th>     <td> </td>   \n",
       "</tr>\n",
       "</table>\n",
       "<table class=\"simpletable\">\n",
       "<tr>\n",
       "              <td></td>                <th>coef</th>     <th>std err</th>      <th>t</th>      <th>P>|t|</th>  <th>[0.025</th>    <th>0.975]</th>  \n",
       "</tr>\n",
       "<tr>\n",
       "  <th>const</th>                    <td>   15.3965</td> <td>    6.087</td> <td>    2.529</td> <td> 0.012</td> <td>    3.448</td> <td>   27.345</td>\n",
       "</tr>\n",
       "<tr>\n",
       "  <th>HeavyAtomCount</th>           <td>  -21.4696</td> <td>    3.815</td> <td>   -5.627</td> <td> 0.000</td> <td>  -28.959</td> <td>  -13.980</td>\n",
       "</tr>\n",
       "<tr>\n",
       "  <th>NHOHCount</th>                <td>   -1.1242</td> <td>    6.317</td> <td>   -0.178</td> <td> 0.859</td> <td>  -13.525</td> <td>   11.276</td>\n",
       "</tr>\n",
       "<tr>\n",
       "  <th>NOCount</th>                  <td>    8.8715</td> <td>    2.722</td> <td>    3.259</td> <td> 0.001</td> <td>    3.528</td> <td>   14.215</td>\n",
       "</tr>\n",
       "<tr>\n",
       "  <th>NumHAфcceptors</th>           <td>   -2.0183</td> <td>    2.183</td> <td>   -0.924</td> <td> 0.356</td> <td>   -6.304</td> <td>    2.267</td>\n",
       "</tr>\n",
       "<tr>\n",
       "  <th>NumHDonors</th>               <td>    6.1225</td> <td>    6.815</td> <td>    0.898</td> <td> 0.369</td> <td>   -7.254</td> <td>   19.500</td>\n",
       "</tr>\n",
       "<tr>\n",
       "  <th>NumHeteroatoms</th>           <td>   -5.9488</td> <td>    1.924</td> <td>   -3.092</td> <td> 0.002</td> <td>   -9.725</td> <td>   -2.172</td>\n",
       "</tr>\n",
       "<tr>\n",
       "  <th>NumRotatableBonds</th>        <td>    0.1983</td> <td>    1.216</td> <td>    0.163</td> <td> 0.870</td> <td>   -2.188</td> <td>    2.584</td>\n",
       "</tr>\n",
       "<tr>\n",
       "  <th>NumValenceElectrons</th>      <td>    3.7653</td> <td>    0.678</td> <td>    5.554</td> <td> 0.000</td> <td>    2.435</td> <td>    5.096</td>\n",
       "</tr>\n",
       "<tr>\n",
       "  <th>NumAromaticRings</th>         <td>   21.5258</td> <td>    4.007</td> <td>    5.373</td> <td> 0.000</td> <td>   13.661</td> <td>   29.391</td>\n",
       "</tr>\n",
       "<tr>\n",
       "  <th>NumAliphaticHeterocycles</th> <td>    2.7052</td> <td>    2.950</td> <td>    0.917</td> <td> 0.359</td> <td>   -3.086</td> <td>    8.496</td>\n",
       "</tr>\n",
       "<tr>\n",
       "  <th>RingCount</th>                <td>   -0.5213</td> <td>    2.791</td> <td>   -0.187</td> <td> 0.852</td> <td>   -6.000</td> <td>    4.957</td>\n",
       "</tr>\n",
       "</table>\n",
       "<table class=\"simpletable\">\n",
       "<tr>\n",
       "  <th>Omnibus:</th>       <td>670.275</td> <th>  Durbin-Watson:     </th> <td>   2.057</td> \n",
       "</tr>\n",
       "<tr>\n",
       "  <th>Prob(Omnibus):</th> <td> 0.000</td>  <th>  Jarque-Bera (JB):  </th> <td>12942.178</td>\n",
       "</tr>\n",
       "<tr>\n",
       "  <th>Skew:</th>          <td> 3.783</td>  <th>  Prob(JB):          </th> <td>    0.00</td> \n",
       "</tr>\n",
       "<tr>\n",
       "  <th>Kurtosis:</th>      <td>21.088</td>  <th>  Cond. No.          </th> <td>    779.</td> \n",
       "</tr>\n",
       "</table><br/><br/>Notes:<br/>[1] Standard Errors assume that the covariance matrix of the errors is correctly specified."
      ],
      "text/plain": [
       "<class 'statsmodels.iolib.summary.Summary'>\n",
       "\"\"\"\n",
       "                            OLS Regression Results                            \n",
       "==============================================================================\n",
       "Dep. Variable:                     SI   R-squared:                       0.088\n",
       "Model:                            OLS   Adj. R-squared:                  0.076\n",
       "Method:                 Least Squares   F-statistic:                     6.995\n",
       "Date:                Sun, 22 Oct 2023   Prob (F-statistic):           2.24e-11\n",
       "Time:                        13:51:15   Log-Likelihood:                -4378.2\n",
       "No. Observations:                 808   AIC:                             8780.\n",
       "Df Residuals:                     796   BIC:                             8837.\n",
       "Df Model:                          11                                         \n",
       "Covariance Type:            nonrobust                                         \n",
       "============================================================================================\n",
       "                               coef    std err          t      P>|t|      [0.025      0.975]\n",
       "--------------------------------------------------------------------------------------------\n",
       "const                       15.3965      6.087      2.529      0.012       3.448      27.345\n",
       "HeavyAtomCount             -21.4696      3.815     -5.627      0.000     -28.959     -13.980\n",
       "NHOHCount                   -1.1242      6.317     -0.178      0.859     -13.525      11.276\n",
       "NOCount                      8.8715      2.722      3.259      0.001       3.528      14.215\n",
       "NumHAфcceptors              -2.0183      2.183     -0.924      0.356      -6.304       2.267\n",
       "NumHDonors                   6.1225      6.815      0.898      0.369      -7.254      19.500\n",
       "NumHeteroatoms              -5.9488      1.924     -3.092      0.002      -9.725      -2.172\n",
       "NumRotatableBonds            0.1983      1.216      0.163      0.870      -2.188       2.584\n",
       "NumValenceElectrons          3.7653      0.678      5.554      0.000       2.435       5.096\n",
       "NumAromaticRings            21.5258      4.007      5.373      0.000      13.661      29.391\n",
       "NumAliphaticHeterocycles     2.7052      2.950      0.917      0.359      -3.086       8.496\n",
       "RingCount                   -0.5213      2.791     -0.187      0.852      -6.000       4.957\n",
       "==============================================================================\n",
       "Omnibus:                      670.275   Durbin-Watson:                   2.057\n",
       "Prob(Omnibus):                  0.000   Jarque-Bera (JB):            12942.178\n",
       "Skew:                           3.783   Prob(JB):                         0.00\n",
       "Kurtosis:                      21.088   Cond. No.                         779.\n",
       "==============================================================================\n",
       "\n",
       "Notes:\n",
       "[1] Standard Errors assume that the covariance matrix of the errors is correctly specified.\n",
       "\"\"\""
      ]
     },
     "execution_count": 24,
     "metadata": {},
     "output_type": "execute_result"
    }
   ],
   "source": [
    "results.summary()"
   ]
  },
  {
   "cell_type": "code",
   "execution_count": 27,
   "id": "62731194-2e1b-4aa1-9fab-190801454fe8",
   "metadata": {
    "id": "62731194-2e1b-4aa1-9fab-190801454fe8"
   },
   "outputs": [],
   "source": [
    "x_for_test = sm.add_constant(X_test[columns])"
   ]
  },
  {
   "cell_type": "markdown",
   "id": "jASW4OC-0eZ5",
   "metadata": {
    "id": "jASW4OC-0eZ5"
   },
   "source": [
    "Предсказанный SI на линейной модели"
   ]
  },
  {
   "cell_type": "code",
   "execution_count": 28,
   "id": "4c630292-2ff1-4c12-bfef-a8e82fd31c7a",
   "metadata": {
    "id": "4c630292-2ff1-4c12-bfef-a8e82fd31c7a",
    "outputId": "3a146c67-dfc1-4972-95e5-a400edc749db"
   },
   "outputs": [
    {
     "data": {
      "text/plain": [
       "289     17.457269\n",
       "811     30.283145\n",
       "809     33.829009\n",
       "817     24.093992\n",
       "1074    27.539352\n",
       "          ...    \n",
       "933     41.325607\n",
       "527      4.754123\n",
       "358     32.041737\n",
       "350     29.808249\n",
       "513     23.020397\n",
       "Length: 337, dtype: float64"
      ]
     },
     "execution_count": 28,
     "metadata": {},
     "output_type": "execute_result"
    }
   ],
   "source": [
    "linear_predictions = results.predict(x_for_test)\n",
    "linear_predictions"
   ]
  },
  {
   "cell_type": "code",
   "execution_count": 29,
   "id": "229454bb-4cb8-4b10-a2df-ab9da0b40efd",
   "metadata": {
    "id": "229454bb-4cb8-4b10-a2df-ab9da0b40efd",
    "outputId": "ec1e9891-4e16-4c25-8601-58c723d9e50d"
   },
   "outputs": [
    {
     "name": "stdout",
     "output_type": "stream",
     "text": [
      "Реальная MAE =  31.89274714505255\n",
      "Реальная MSE =  3251.491081708187\n",
      "Относительная RMSE =  1.039413449645838\n",
      "R2 =  -0.08038031930466105\n"
     ]
    }
   ],
   "source": [
    "metriki(linear_predictions, y_test)"
   ]
  },
  {
   "cell_type": "markdown",
   "id": "PGwWNch40pkY",
   "metadata": {
    "id": "PGwWNch40pkY"
   },
   "source": [
    "\n",
    "Значения метрик указывают на то, что модель не является хорошим выбором для данной задачи или требует серьезной доработки и улучшения"
   ]
  },
  {
   "cell_type": "markdown",
   "id": "T28EZQnd04ET",
   "metadata": {
    "id": "T28EZQnd04ET"
   },
   "source": [
    "График истинных значений vs. Предсказанных значений\n"
   ]
  },
  {
   "cell_type": "code",
   "execution_count": 30,
   "id": "b45b47af-08ec-4de6-b698-2bfe6a652229",
   "metadata": {
    "id": "b45b47af-08ec-4de6-b698-2bfe6a652229",
    "outputId": "ba40d71b-fe32-4c01-c996-f91fa555d536"
   },
   "outputs": [
    {
     "data": {
      "image/png": "[encoded data removed]",
      "text/plain": [
       "<Figure size 640x480 with 1 Axes>"
      ]
     },
     "metadata": {},
     "output_type": "display_data"
    }
   ],
   "source": [
    "plt.scatter(y_test, linear_predictions, color='blue', label='Истинные vs. Предсказанные значения')\n",
    "plt.xlabel('Истинные значения')\n",
    "plt.ylabel('Предсказанные значения')\n",
    "plt.legend(loc='best')\n",
    "\n",
    "# Добавьте линию, чтобы показать идеальное совпадение (y = x)\n",
    "plt.plot([min(y_test), max(y_test)], [min(y_test), max(y_test)], linestyle='--', color='red')\n",
    "\n",
    "# Отобразите график\n",
    "plt.show()"
   ]
  },
  {
   "cell_type": "markdown",
   "id": "205fda28-5356-4e2a-9f2b-02f7201fe708",
   "metadata": {
    "id": "205fda28-5356-4e2a-9f2b-02f7201fe708"
   },
   "source": [
    "## Ридж-регрессионная модель"
   ]
  },
  {
   "cell_type": "code",
   "execution_count": 31,
   "id": "4bdb1a18-dc4d-4b1c-9b99-36d6543aa22f",
   "metadata": {
    "id": "4bdb1a18-dc4d-4b1c-9b99-36d6543aa22f"
   },
   "outputs": [],
   "source": [
    "X_train, X_test, y_train, y_test = train_test_split(data, y,  test_size=0.25, random_state=42)\n",
    "X_train, X_validation, y_train, y_validation = train_test_split(X_train, y_train,  test_size=0.2, random_state=42)"
   ]
  },
  {
   "cell_type": "markdown",
   "id": "5K0G9t7i1UDI",
   "metadata": {
    "id": "5K0G9t7i1UDI"
   },
   "source": [
    "Вывод количества объектов в выборках для обучающей, валидационной и тестовой выборок"
   ]
  },
  {
   "cell_type": "code",
   "execution_count": 32,
   "id": "3927ee25-dfc6-4cce-a123-711ec17d4dc7",
   "metadata": {
    "id": "3927ee25-dfc6-4cce-a123-711ec17d4dc7",
    "outputId": "52020053-6db3-495b-8005-a69bea786296"
   },
   "outputs": [
    {
     "name": "stdout",
     "output_type": "stream",
     "text": [
      "808 203 337\n"
     ]
    }
   ],
   "source": [
    "print(len(X_train), len(X_validation), len(X_test))"
   ]
  },
  {
   "cell_type": "markdown",
   "id": "4536adb3-508f-4dc6-8cd4-ca08a88438bd",
   "metadata": {
    "id": "4536adb3-508f-4dc6-8cd4-ca08a88438bd"
   },
   "source": [
    "Перебор параметров"
   ]
  },
  {
   "cell_type": "code",
   "execution_count": 33,
   "id": "1dacfe8a-a850-4171-8303-b6b5719f8633",
   "metadata": {
    "id": "1dacfe8a-a850-4171-8303-b6b5719f8633"
   },
   "outputs": [],
   "source": [
    "alphas = [1.0, 2.0, 5.0, 10.0]\n",
    "solvers = ['auto', 'svd', 'cholesky', 'lsqr', 'sparse_cg', 'sag', 'saga']"
   ]
  },
  {
   "cell_type": "markdown",
   "id": "dNEP9KSU2Fb_",
   "metadata": {
    "id": "dNEP9KSU2Fb_"
   },
   "source": [
    "Смотрим лучшую модель по значению MSE:"
   ]
  },
  {
   "cell_type": "code",
   "execution_count": 34,
   "id": "b1516007-8a26-47c8-85c5-b88ad9eba164",
   "metadata": {
    "id": "b1516007-8a26-47c8-85c5-b88ad9eba164",
    "outputId": "0f543380-1c85-4556-97b4-1b98fb56e148"
   },
   "outputs": [
    {
     "name": "stdout",
     "output_type": "stream",
     "text": [
      "[0.042738138539777565, 10.0, 'saga']\n"
     ]
    }
   ],
   "source": [
    "for a in alphas:\n",
    "    best = [0]\n",
    "    for solver in solvers:\n",
    "        ridge_reg = Ridge(alpha=a, solver=solver, random_state=42)\n",
    "        ridge_reg.fit(X_train, y_train)\n",
    "        ridge_reg_predictions = ridge_reg.predict(X_validation)\n",
    "        mse = mean_squared_error(y_validation, ridge_reg_predictions)\n",
    "        # score = ridge_reg.score(X_validation, y_validation)\n",
    "        if mse > best[0]:\n",
    "            best = [mse, a, solver]\n",
    "print(best)"
   ]
  },
  {
   "cell_type": "code",
   "execution_count": 35,
   "id": "548a4fd6-9111-47c0-85c0-19338e4f2dae",
   "metadata": {
    "id": "548a4fd6-9111-47c0-85c0-19338e4f2dae",
    "outputId": "93cdb8ea-41f2-4b4f-b284-2ae13019aed1"
   },
   "outputs": [
    {
     "name": "stdout",
     "output_type": "stream",
     "text": [
      "Реальная MAE =  0.12625077334332707\n",
      "Реальная MSE =  0.029619232282789187\n",
      "Относительная RMSE =  0.003137140340533898\n",
      "R2 =  0.9999901583504838\n"
     ]
    }
   ],
   "source": [
    "ridge_reg = Ridge(alpha=10.0, solver=\"saga\", random_state=42)\n",
    "ridge_reg.fit(X_train, y_train)\n",
    "\n",
    "ridge_reg_predictions = ridge_reg.predict(X_test)\n",
    "metriki(ridge_reg_predictions, y_test)"
   ]
  },
  {
   "cell_type": "markdown",
   "id": "bF2d0bqd2Jx_",
   "metadata": {
    "id": "bF2d0bqd2Jx_"
   },
   "source": [
    "Модель хорошая."
   ]
  },
  {
   "cell_type": "markdown",
   "id": "mHLETfSW1rAz",
   "metadata": {
    "id": "mHLETfSW1rAz"
   },
   "source": [
    "Смотрим лучшую модель по значению score:"
   ]
  },
  {
   "cell_type": "code",
   "execution_count": 36,
   "id": "c986118b-4253-49cd-a517-f15df554add9",
   "metadata": {
    "id": "c986118b-4253-49cd-a517-f15df554add9",
    "outputId": "c5ba58ab-8b01-49d8-ef16-795e720d64bf"
   },
   "outputs": [
    {
     "name": "stdout",
     "output_type": "stream",
     "text": [
      "[0.9999999999732792, 10.0, 'auto']\n"
     ]
    }
   ],
   "source": [
    "for a in alphas:\n",
    "    best = [0]\n",
    "    for solver in solvers:\n",
    "        ridge_reg = Ridge(alpha=a, solver=solver, random_state=42)\n",
    "        ridge_reg.fit(X_train, y_train)\n",
    "        # ridge_reg_predictions = ridge_reg.predict(X_validation)\n",
    "        # mse = mean_squared_error(y_validation, ridge_reg_predictions)\n",
    "        score = ridge_reg.score(X_validation, y_validation)\n",
    "        if score > best[0]:\n",
    "            best = [score, a, solver]\n",
    "print(best)"
   ]
  },
  {
   "cell_type": "code",
   "execution_count": 37,
   "id": "463e6221-9bd7-4370-966f-38b73108989e",
   "metadata": {
    "id": "463e6221-9bd7-4370-966f-38b73108989e",
    "outputId": "07f70739-54c9-4bc2-9436-7af2ec0b18ab"
   },
   "outputs": [
    {
     "name": "stdout",
     "output_type": "stream",
     "text": [
      "Реальная MAE =  0.00015328151911661494\n",
      "Реальная MSE =  7.595318331817807e-08\n",
      "Относительная RMSE =  5.0236576871625916e-06\n",
      "R2 =  0.9999999999747629\n"
     ]
    }
   ],
   "source": [
    "ridge_reg = Ridge(alpha=10.0, solver=\"auto\", random_state=42)\n",
    "ridge_reg.fit(X_train, y_train)\n",
    "\n",
    "ridge_reg_predictions = ridge_reg.predict(X_test)\n",
    "metriki(ridge_reg_predictions, y_test)"
   ]
  },
  {
   "cell_type": "markdown",
   "id": "ZeQj5LJk1zc7",
   "metadata": {
    "id": "ZeQj5LJk1zc7"
   },
   "source": [
    "Модель наилучшая по значению score."
   ]
  },
  {
   "cell_type": "markdown",
   "id": "7595f633-3bc6-4097-9523-0275bff4b7b7",
   "metadata": {
    "id": "7595f633-3bc6-4097-9523-0275bff4b7b7"
   },
   "source": [
    "---------------------------------------"
   ]
  },
  {
   "cell_type": "markdown",
   "id": "Rv4yTpJd23gk",
   "metadata": {
    "id": "Rv4yTpJd23gk"
   },
   "source": [
    "Строим график модели по score"
   ]
  },
  {
   "cell_type": "code",
   "execution_count": 38,
   "id": "d700dcb3-307a-4154-8557-2ae500b69a15",
   "metadata": {
    "id": "d700dcb3-307a-4154-8557-2ae500b69a15",
    "outputId": "c5b2cdc6-3269-473c-eaf9-cc715987fbb0"
   },
   "outputs": [
    {
     "data": {
      "image/png": "[encoded data removed]",
      "text/plain": [
       "<Figure size 640x480 with 1 Axes>"
      ]
     },
     "metadata": {},
     "output_type": "display_data"
    }
   ],
   "source": [
    "plt.scatter(y_test, ridge_reg_predictions, color='blue', label='Истинные vs. Предсказанные значения')\n",
    "plt.xlabel('Истинные значения')\n",
    "plt.ylabel('Предсказанные значения')\n",
    "plt.legend(loc='best')\n",
    "\n",
    "# Добавьте линию, чтобы показать идеальное совпадение (y = x)\n",
    "plt.plot([min(y_test), max(y_test)], [min(y_test), max(y_test)], linestyle='--', color='red')\n",
    "\n",
    "# Отобразите график\n",
    "plt.show()"
   ]
  },
  {
   "cell_type": "markdown",
   "id": "E3cfUpn18bJO",
   "metadata": {
    "id": "E3cfUpn18bJO"
   },
   "source": [
    "## Лассо-регрессия"
   ]
  },
  {
   "cell_type": "code",
   "execution_count": 39,
   "id": "O963R47l8mp7",
   "metadata": {
    "id": "O963R47l8mp7"
   },
   "outputs": [
    {
     "name": "stdout",
     "output_type": "stream",
     "text": [
      "[0.9999999522917169, 0.01]\n"
     ]
    }
   ],
   "source": [
    "lasso_alpha = [0.01, 0.1, 0.5, 1, 2, 5]\n",
    "best = [0]\n",
    "for a in lasso_alpha :\n",
    "    lasso_reg = Lasso(alpha=a)\n",
    "    lasso_reg.fit(X_train, y_train)\n",
    "    score = lasso_reg.score(X_validation, y_validation)\n",
    "    if score > best[0]:\n",
    "        best = [score, a]\n",
    "print(best)"
   ]
  },
  {
   "cell_type": "code",
   "execution_count": 40,
   "id": "Sr8WOCzH8s76",
   "metadata": {
    "id": "Sr8WOCzH8s76"
   },
   "outputs": [],
   "source": [
    "lasso_reg = Lasso(alpha=5)\n",
    "lasso_reg.fit(X_train, y_train)\n",
    "lasso_prediction = lasso_reg.predict(X_test)"
   ]
  },
  {
   "cell_type": "code",
   "execution_count": 41,
   "id": "8hbmyBjj8uKo",
   "metadata": {
    "id": "8hbmyBjj8uKo"
   },
   "outputs": [
    {
     "name": "stdout",
     "output_type": "stream",
     "text": [
      "Реальная MAE =  0.046916133431508425\n",
      "Реальная MSE =  0.00705096349689943\n",
      "Относительная RMSE =  0.0015306337379162038\n",
      "R2 =  0.9999976571603604\n"
     ]
    }
   ],
   "source": [
    "metriki(lasso_prediction, y_test)"
   ]
  },
  {
   "cell_type": "code",
   "execution_count": 42,
   "id": "ZBzGK69q8vmT",
   "metadata": {
    "id": "ZBzGK69q8vmT"
   },
   "outputs": [
    {
     "data": {
      "image/png": "[encoded data removed]",
      "text/plain": [
       "<Figure size 640x480 with 1 Axes>"
      ]
     },
     "metadata": {},
     "output_type": "display_data"
    }
   ],
   "source": [
    "plt.scatter(y_test, lasso_prediction, color='blue', label='Истинные vs. Предсказанные значения')\n",
    "plt.xlabel('Истинные значения')\n",
    "plt.ylabel('Предсказанные значения')\n",
    "plt.legend(loc='best')\n",
    "\n",
    "# Добавьте линию, чтобы показать идеальное совпадение (y = x)\n",
    "plt.plot([min(y_test), max(y_test)], [min(y_test), max(y_test)], linestyle='--', color='red')\n",
    "\n",
    "# Отобразите график\n",
    "plt.show()"
   ]
  },
  {
   "cell_type": "code",
   "execution_count": 43,
   "id": "P92_7NEK8yG8",
   "metadata": {
    "id": "P92_7NEK8yG8"
   },
   "outputs": [
    {
     "data": {
      "image/png": "[encoded data removed]",
      "text/plain": [
       "<Figure size 640x480 with 1 Axes>"
      ]
     },
     "metadata": {},
     "output_type": "display_data"
    }
   ],
   "source": [
    "train_sizes, train_scores, test_scores = learning_curve(lasso_reg, X_train, y_train, cv=5, scoring='neg_mean_squared_error')\n",
    "\n",
    "train_scores_mean = -np.mean(train_scores, axis=1)\n",
    "test_scores_mean = -np.mean(test_scores, axis=1)\n",
    "\n",
    "plt.figure()\n",
    "plt.title(\"График обучения\")\n",
    "plt.xlabel(\"Размер обучающего набора\")\n",
    "plt.ylabel(\"Отрицательное MSE\")\n",
    "plt.grid()\n",
    "\n",
    "plt.plot(train_sizes, train_scores_mean, 'o-', label=\"Обучение\")\n",
    "plt.plot(train_sizes, test_scores_mean, 'o-', label=\"Тест\")\n",
    "\n",
    "plt.legend()\n",
    "plt.show()"
   ]
  },
  {
   "cell_type": "markdown",
   "id": "SZjLG61z804L",
   "metadata": {
    "id": "SZjLG61z804L"
   },
   "source": [
    "Получившаяся модель очень хорошая."
   ]
  },
  {
   "cell_type": "markdown",
   "id": "2a6051c9-0ca0-4de8-9b4d-12f75bf50f5f",
   "metadata": {
    "id": "2a6051c9-0ca0-4de8-9b4d-12f75bf50f5f"
   },
   "source": [
    "## Полиномиальная регрессия"
   ]
  },
  {
   "cell_type": "markdown",
   "id": "MRQ5Q_RT3BoH",
   "metadata": {
    "id": "MRQ5Q_RT3BoH"
   },
   "source": [
    "Обучаем полином со степенью 2 и проводим кросс-валидацию на 5 подвыборках"
   ]
  },
  {
   "cell_type": "code",
   "execution_count": 44,
   "id": "d241a9c8-7674-471e-87b9-26e23ee1b9fb",
   "metadata": {
    "id": "d241a9c8-7674-471e-87b9-26e23ee1b9fb"
   },
   "outputs": [],
   "source": [
    "degree = 2\n",
    "polyreg = PolynomialFeatures(degree)\n",
    "linreg = LinearRegression()\n",
    "model = make_pipeline(polyreg, linreg)\n",
    "scores = cross_val_score(model, X_train, y_train, cv=5, scoring='neg_mean_squared_error')"
   ]
  },
  {
   "cell_type": "code",
   "execution_count": 45,
   "id": "4a22c159-4e75-42f6-bf85-01b473941271",
   "metadata": {
    "id": "4a22c159-4e75-42f6-bf85-01b473941271",
    "outputId": "27114de5-27ed-49b7-e93a-ad322d7d4244"
   },
   "outputs": [
    {
     "data": {
      "text/html": [
       "<style>#sk-container-id-1 {color: black;background-color: white;}#sk-container-id-1 pre{padding: 0;}#sk-container-id-1 div.sk-toggleable {background-color: white;}#sk-container-id-1 label.sk-toggleable__label {cursor: pointer;display: block;width: 100%;margin-bottom: 0;padding: 0.3em;box-sizing: border-box;text-align: center;}#sk-container-id-1 label.sk-toggleable__label-arrow:before {content: \"▸\";float: left;margin-right: 0.25em;color: #696969;}#sk-container-id-1 label.sk-toggleable__label-arrow:hover:before {color: black;}#sk-container-id-1 div.sk-estimator:hover label.sk-toggleable__label-arrow:before {color: black;}#sk-container-id-1 div.sk-toggleable__content {max-height: 0;max-width: 0;overflow: hidden;text-align: left;background-color: #f0f8ff;}#sk-container-id-1 div.sk-toggleable__content pre {margin: 0.2em;color: black;border-radius: 0.25em;background-color: #f0f8ff;}#sk-container-id-1 input.sk-toggleable__control:checked~div.sk-toggleable__content {max-height: 200px;max-width: 100%;overflow: auto;}#sk-container-id-1 input.sk-toggleable__control:checked~label.sk-toggleable__label-arrow:before {content: \"▾\";}#sk-container-id-1 div.sk-estimator input.sk-toggleable__control:checked~label.sk-toggleable__label {background-color: #d4ebff;}#sk-container-id-1 div.sk-label input.sk-toggleable__control:checked~label.sk-toggleable__label {background-color: #d4ebff;}#sk-container-id-1 input.sk-hidden--visually {border: 0;clip: rect(1px 1px 1px 1px);clip: rect(1px, 1px, 1px, 1px);height: 1px;margin: -1px;overflow: hidden;padding: 0;position: absolute;width: 1px;}#sk-container-id-1 div.sk-estimator {font-family: monospace;background-color: #f0f8ff;border: 1px dotted black;border-radius: 0.25em;box-sizing: border-box;margin-bottom: 0.5em;}#sk-container-id-1 div.sk-estimator:hover {background-color: #d4ebff;}#sk-container-id-1 div.sk-parallel-item::after {content: \"\";width: 100%;border-bottom: 1px solid gray;flex-grow: 1;}#sk-container-id-1 div.sk-label:hover label.sk-toggleable__label {background-color: #d4ebff;}#sk-container-id-1 div.sk-serial::before {content: \"\";position: absolute;border-left: 1px solid gray;box-sizing: border-box;top: 0;bottom: 0;left: 50%;z-index: 0;}#sk-container-id-1 div.sk-serial {display: flex;flex-direction: column;align-items: center;background-color: white;padding-right: 0.2em;padding-left: 0.2em;position: relative;}#sk-container-id-1 div.sk-item {position: relative;z-index: 1;}#sk-container-id-1 div.sk-parallel {display: flex;align-items: stretch;justify-content: center;background-color: white;position: relative;}#sk-container-id-1 div.sk-item::before, #sk-container-id-1 div.sk-parallel-item::before {content: \"\";position: absolute;border-left: 1px solid gray;box-sizing: border-box;top: 0;bottom: 0;left: 50%;z-index: -1;}#sk-container-id-1 div.sk-parallel-item {display: flex;flex-direction: column;z-index: 1;position: relative;background-color: white;}#sk-container-id-1 div.sk-parallel-item:first-child::after {align-self: flex-end;width: 50%;}#sk-container-id-1 div.sk-parallel-item:last-child::after {align-self: flex-start;width: 50%;}#sk-container-id-1 div.sk-parallel-item:only-child::after {width: 0;}#sk-container-id-1 div.sk-dashed-wrapped {border: 1px dashed gray;margin: 0 0.4em 0.5em 0.4em;box-sizing: border-box;padding-bottom: 0.4em;background-color: white;}#sk-container-id-1 div.sk-label label {font-family: monospace;font-weight: bold;display: inline-block;line-height: 1.2em;}#sk-container-id-1 div.sk-label-container {text-align: center;}#sk-container-id-1 div.sk-container {/* jupyter's `normalize.less` sets `[hidden] { display: none; }` but bootstrap.min.css set `[hidden] { display: none !important; }` so we also need the `!important` here to be able to override the default hidden behavior on the sphinx rendered scikit-learn.org. See: https://github.com/scikit-learn/scikit-learn/issues/21755 */display: inline-block !important;position: relative;}#sk-container-id-1 div.sk-text-repr-fallback {display: none;}</style><div id=\"sk-container-id-1\" class=\"sk-top-container\"><div class=\"sk-text-repr-fallback\"><pre>Pipeline(steps=[(&#x27;polynomialfeatures&#x27;, PolynomialFeatures()),\n",
       "                (&#x27;linearregression&#x27;, LinearRegression())])</pre><b>In a Jupyter environment, please rerun this cell to show the HTML representation or trust the notebook. <br />On GitHub, the HTML representation is unable to render, please try loading this page with nbviewer.org.</b></div><div class=\"sk-container\" hidden><div class=\"sk-item sk-dashed-wrapped\"><div class=\"sk-label-container\"><div class=\"sk-label sk-toggleable\"><input class=\"sk-toggleable__control sk-hidden--visually\" id=\"sk-estimator-id-1\" type=\"checkbox\" ><label for=\"sk-estimator-id-1\" class=\"sk-toggleable__label sk-toggleable__label-arrow\">Pipeline</label><div class=\"sk-toggleable__content\"><pre>Pipeline(steps=[(&#x27;polynomialfeatures&#x27;, PolynomialFeatures()),\n",
       "                (&#x27;linearregression&#x27;, LinearRegression())])</pre></div></div></div><div class=\"sk-serial\"><div class=\"sk-item\"><div class=\"sk-estimator sk-toggleable\"><input class=\"sk-toggleable__control sk-hidden--visually\" id=\"sk-estimator-id-2\" type=\"checkbox\" ><label for=\"sk-estimator-id-2\" class=\"sk-toggleable__label sk-toggleable__label-arrow\">PolynomialFeatures</label><div class=\"sk-toggleable__content\"><pre>PolynomialFeatures()</pre></div></div></div><div class=\"sk-item\"><div class=\"sk-estimator sk-toggleable\"><input class=\"sk-toggleable__control sk-hidden--visually\" id=\"sk-estimator-id-3\" type=\"checkbox\" ><label for=\"sk-estimator-id-3\" class=\"sk-toggleable__label sk-toggleable__label-arrow\">LinearRegression</label><div class=\"sk-toggleable__content\"><pre>LinearRegression()</pre></div></div></div></div></div></div></div>"
      ],
      "text/plain": [
       "Pipeline(steps=[('polynomialfeatures', PolynomialFeatures()),\n",
       "                ('linearregression', LinearRegression())])"
      ]
     },
     "execution_count": 45,
     "metadata": {},
     "output_type": "execute_result"
    }
   ],
   "source": [
    "model.fit(X_train, y_train)"
   ]
  },
  {
   "cell_type": "markdown",
   "id": "l0uEDAWw3OXP",
   "metadata": {
    "id": "l0uEDAWw3OXP"
   },
   "source": [
    "Получаем MSE для кросс-валидации\n"
   ]
  },
  {
   "cell_type": "code",
   "execution_count": 46,
   "id": "5acedb2f-e3a1-493e-bf0c-11ffad6a59bc",
   "metadata": {
    "id": "5acedb2f-e3a1-493e-bf0c-11ffad6a59bc"
   },
   "outputs": [],
   "source": [
    "y_pred = model.predict(X_test)\n",
    "mean_mse = -scores.mean()  # Поскольку cross_val_score возвращает отрицательное MSE, возьмем его с отрицательным знаком"
   ]
  },
  {
   "cell_type": "code",
   "execution_count": 47,
   "id": "e55078b5-ae0f-4e42-85bd-6d5e851ba266",
   "metadata": {
    "id": "e55078b5-ae0f-4e42-85bd-6d5e851ba266"
   },
   "outputs": [],
   "source": [
    "mean_mse = -scores.mean()  # Поскольку cross_val_score возвращает отрицательное MSE, возьмем его с отрицательным знаком"
   ]
  },
  {
   "cell_type": "code",
   "execution_count": 48,
   "id": "d7e5c36e-f66a-40be-895a-fd8f51bbe666",
   "metadata": {
    "id": "d7e5c36e-f66a-40be-895a-fd8f51bbe666",
    "outputId": "5e5d2422-e8c7-462f-9a83-c7f87e513645"
   },
   "outputs": [
    {
     "name": "stdout",
     "output_type": "stream",
     "text": [
      "4.424159808555469e-20\n"
     ]
    }
   ],
   "source": [
    "print(mean_mse)"
   ]
  },
  {
   "cell_type": "code",
   "execution_count": 49,
   "id": "eed8f5fe-ec87-445d-8ab5-d080343eb33d",
   "metadata": {
    "id": "eed8f5fe-ec87-445d-8ab5-d080343eb33d",
    "outputId": "24fcd96f-f1e4-4a1e-fc72-1a0200204f83"
   },
   "outputs": [
    {
     "data": {
      "text/plain": [
       "574     26\n",
       "480     21\n",
       "104     15\n",
       "473     26\n",
       "1195    25\n",
       "        ..\n",
       "944     54\n",
       "613     29\n",
       "1314    19\n",
       "164     16\n",
       "447     24\n",
       "Name: HeavyAtomCount, Length: 808, dtype: int64"
      ]
     },
     "execution_count": 49,
     "metadata": {},
     "output_type": "execute_result"
    }
   ],
   "source": [
    "X_train['HeavyAtomCount']"
   ]
  },
  {
   "cell_type": "code",
   "execution_count": 50,
   "id": "bd9015f4-5d57-46da-8f58-a293cf79546b",
   "metadata": {
    "id": "bd9015f4-5d57-46da-8f58-a293cf79546b",
    "outputId": "e2422a77-c90e-4232-97d7-f7bef13cd1de"
   },
   "outputs": [
    {
     "name": "stdout",
     "output_type": "stream",
     "text": [
      "Реальная MAE =  9.630210126705522e-11\n",
      "Реальная MSE =  2.2635541316330633e-20\n",
      "Относительная RMSE =  2.74247382355562e-12\n",
      "R2 =  1.0\n"
     ]
    }
   ],
   "source": [
    "metriki(y_pred, y_test)"
   ]
  },
  {
   "cell_type": "markdown",
   "id": "ogWdnk-53qnt",
   "metadata": {
    "id": "ogWdnk-53qnt"
   },
   "source": [
    "R^2 = 1, следовательно, модель очень хорошая. Есть вероятность, что модель переобучена. Проверяем предыдущий показатель MSE для кросс-валидации - он очень маленький, следовательно, на train модель не переобучилась.\n",
    "Следовательно, модель очень хорошая, но требует усовершенствования."
   ]
  },
  {
   "cell_type": "code",
   "execution_count": 51,
   "id": "15c298f3-c616-4aa0-8476-724c0c7971b7",
   "metadata": {
    "id": "15c298f3-c616-4aa0-8476-724c0c7971b7"
   },
   "outputs": [],
   "source": [
    "train_sizes, train_scores, test_scores = learning_curve(model, X_train, y_train, cv=5, scoring='neg_mean_squared_error')"
   ]
  },
  {
   "cell_type": "markdown",
   "id": "mSY3eiqJ4kyc",
   "metadata": {
    "id": "mSY3eiqJ4kyc"
   },
   "source": [
    "Строим график обучения"
   ]
  },
  {
   "cell_type": "code",
   "execution_count": 52,
   "id": "8319321b-ff1a-4cf4-8263-baf11ab898c1",
   "metadata": {
    "id": "8319321b-ff1a-4cf4-8263-baf11ab898c1",
    "outputId": "3658e758-fb2e-40c0-ec02-47104903cfba"
   },
   "outputs": [
    {
     "data": {
      "image/png": "[encoded data removed]",
      "text/plain": [
       "<Figure size 640x480 with 1 Axes>"
      ]
     },
     "metadata": {},
     "output_type": "display_data"
    }
   ],
   "source": [
    "train_sizes, train_scores, test_scores = learning_curve(model, X_train, y_train, cv=5, scoring='neg_mean_squared_error')\n",
    "\n",
    "train_scores_mean = -np.mean(train_scores, axis=1)\n",
    "test_scores_mean = -np.mean(test_scores, axis=1)\n",
    "\n",
    "plt.figure()\n",
    "plt.title(\"График обучения\")\n",
    "plt.xlabel(\"Размер обучающего набора\")\n",
    "plt.ylabel(\"Отрицательное MSE\")\n",
    "plt.grid()\n",
    "\n",
    "plt.plot(train_sizes, train_scores_mean, 'o-', label=\"Обучение\")\n",
    "plt.plot(train_sizes, test_scores_mean, 'o-', label=\"Тест\")\n",
    "\n",
    "plt.legend()\n",
    "plt.show()\n"
   ]
  },
  {
   "cell_type": "markdown",
   "id": "qYFvn-Ae4u-g",
   "metadata": {
    "id": "qYFvn-Ae4u-g"
   },
   "source": [
    "Видна сходимость между обучением и тестом, можно уменьшить обучающую выборку. Запускаем алгоритм заново, но с уменьшенным объёмом обучающей выборки."
   ]
  },
  {
   "cell_type": "code",
   "execution_count": 53,
   "id": "741360ee-f575-4b6f-8387-86dec9abe202",
   "metadata": {
    "id": "741360ee-f575-4b6f-8387-86dec9abe202"
   },
   "outputs": [
    {
     "data": {
      "text/html": [
       "<div>\n",
       "<style scoped>\n",
       "    .dataframe tbody tr th:only-of-type {\n",
       "        vertical-align: middle;\n",
       "    }\n",
       "\n",
       "    .dataframe tbody tr th {\n",
       "        vertical-align: top;\n",
       "    }\n",
       "\n",
       "    .dataframe thead th {\n",
       "        text-align: right;\n",
       "    }\n",
       "</style>\n",
       "<table border=\"1\" class=\"dataframe\">\n",
       "  <thead>\n",
       "    <tr style=\"text-align: right;\">\n",
       "      <th></th>\n",
       "      <th>IC50, mmg/ml</th>\n",
       "      <th>CC50-MDCK, mmg/ml</th>\n",
       "      <th>SI</th>\n",
       "      <th>HeavyAtomCount</th>\n",
       "      <th>NHOHCount</th>\n",
       "      <th>NOCount</th>\n",
       "      <th>NumHAфcceptors</th>\n",
       "      <th>NumHDonors</th>\n",
       "      <th>NumHeteroatoms</th>\n",
       "      <th>NumRotatableBonds</th>\n",
       "      <th>NumValenceElectrons</th>\n",
       "      <th>NumAromaticRings</th>\n",
       "      <th>NumAliphaticHeterocycles</th>\n",
       "      <th>RingCount</th>\n",
       "      <th>MW</th>\n",
       "      <th>LogP</th>\n",
       "      <th>MR</th>\n",
       "      <th>TPSA</th>\n",
       "    </tr>\n",
       "  </thead>\n",
       "  <tbody>\n",
       "    <tr>\n",
       "      <th>0</th>\n",
       "      <td>2.7</td>\n",
       "      <td>500.0</td>\n",
       "      <td>185.185185</td>\n",
       "      <td>14</td>\n",
       "      <td>1</td>\n",
       "      <td>2</td>\n",
       "      <td>2</td>\n",
       "      <td>1</td>\n",
       "      <td>2</td>\n",
       "      <td>2</td>\n",
       "      <td>80</td>\n",
       "      <td>0</td>\n",
       "      <td>0</td>\n",
       "      <td>2</td>\n",
       "      <td>195.306</td>\n",
       "      <td>2.26590</td>\n",
       "      <td>58.6168</td>\n",
       "      <td>32.59</td>\n",
       "    </tr>\n",
       "    <tr>\n",
       "      <th>1</th>\n",
       "      <td>9.9</td>\n",
       "      <td>144.0</td>\n",
       "      <td>14.545455</td>\n",
       "      <td>18</td>\n",
       "      <td>0</td>\n",
       "      <td>2</td>\n",
       "      <td>2</td>\n",
       "      <td>0</td>\n",
       "      <td>2</td>\n",
       "      <td>5</td>\n",
       "      <td>104</td>\n",
       "      <td>0</td>\n",
       "      <td>0</td>\n",
       "      <td>2</td>\n",
       "      <td>250.430</td>\n",
       "      <td>3.61540</td>\n",
       "      <td>79.3190</td>\n",
       "      <td>15.60</td>\n",
       "    </tr>\n",
       "    <tr>\n",
       "      <th>2</th>\n",
       "      <td>8.3</td>\n",
       "      <td>500.0</td>\n",
       "      <td>60.240964</td>\n",
       "      <td>16</td>\n",
       "      <td>0</td>\n",
       "      <td>2</td>\n",
       "      <td>2</td>\n",
       "      <td>0</td>\n",
       "      <td>2</td>\n",
       "      <td>3</td>\n",
       "      <td>92</td>\n",
       "      <td>0</td>\n",
       "      <td>0</td>\n",
       "      <td>2</td>\n",
       "      <td>222.376</td>\n",
       "      <td>2.83520</td>\n",
       "      <td>70.0850</td>\n",
       "      <td>15.60</td>\n",
       "    </tr>\n",
       "    <tr>\n",
       "      <th>3</th>\n",
       "      <td>39.4</td>\n",
       "      <td>143.0</td>\n",
       "      <td>3.629442</td>\n",
       "      <td>17</td>\n",
       "      <td>0</td>\n",
       "      <td>3</td>\n",
       "      <td>3</td>\n",
       "      <td>0</td>\n",
       "      <td>3</td>\n",
       "      <td>3</td>\n",
       "      <td>98</td>\n",
       "      <td>0</td>\n",
       "      <td>0</td>\n",
       "      <td>2</td>\n",
       "      <td>239.359</td>\n",
       "      <td>2.30600</td>\n",
       "      <td>67.6630</td>\n",
       "      <td>29.54</td>\n",
       "    </tr>\n",
       "    <tr>\n",
       "      <th>4</th>\n",
       "      <td>25.8</td>\n",
       "      <td>500.0</td>\n",
       "      <td>19.379845</td>\n",
       "      <td>19</td>\n",
       "      <td>0</td>\n",
       "      <td>2</td>\n",
       "      <td>1</td>\n",
       "      <td>0</td>\n",
       "      <td>2</td>\n",
       "      <td>5</td>\n",
       "      <td>110</td>\n",
       "      <td>0</td>\n",
       "      <td>0</td>\n",
       "      <td>2</td>\n",
       "      <td>265.465</td>\n",
       "      <td>3.76000</td>\n",
       "      <td>83.6644</td>\n",
       "      <td>12.36</td>\n",
       "    </tr>\n",
       "    <tr>\n",
       "      <th>...</th>\n",
       "      <td>...</td>\n",
       "      <td>...</td>\n",
       "      <td>...</td>\n",
       "      <td>...</td>\n",
       "      <td>...</td>\n",
       "      <td>...</td>\n",
       "      <td>...</td>\n",
       "      <td>...</td>\n",
       "      <td>...</td>\n",
       "      <td>...</td>\n",
       "      <td>...</td>\n",
       "      <td>...</td>\n",
       "      <td>...</td>\n",
       "      <td>...</td>\n",
       "      <td>...</td>\n",
       "      <td>...</td>\n",
       "      <td>...</td>\n",
       "      <td>...</td>\n",
       "    </tr>\n",
       "    <tr>\n",
       "      <th>1343</th>\n",
       "      <td>300.3</td>\n",
       "      <td>300.3</td>\n",
       "      <td>1.000000</td>\n",
       "      <td>11</td>\n",
       "      <td>0</td>\n",
       "      <td>4</td>\n",
       "      <td>4</td>\n",
       "      <td>0</td>\n",
       "      <td>4</td>\n",
       "      <td>2</td>\n",
       "      <td>64</td>\n",
       "      <td>0</td>\n",
       "      <td>1</td>\n",
       "      <td>1</td>\n",
       "      <td>159.185</td>\n",
       "      <td>-0.50840</td>\n",
       "      <td>39.2750</td>\n",
       "      <td>38.77</td>\n",
       "    </tr>\n",
       "    <tr>\n",
       "      <th>1344</th>\n",
       "      <td>13.2</td>\n",
       "      <td>448.3</td>\n",
       "      <td>34.000000</td>\n",
       "      <td>16</td>\n",
       "      <td>0</td>\n",
       "      <td>3</td>\n",
       "      <td>3</td>\n",
       "      <td>0</td>\n",
       "      <td>3</td>\n",
       "      <td>5</td>\n",
       "      <td>90</td>\n",
       "      <td>1</td>\n",
       "      <td>0</td>\n",
       "      <td>1</td>\n",
       "      <td>224.300</td>\n",
       "      <td>2.93552</td>\n",
       "      <td>64.0430</td>\n",
       "      <td>39.44</td>\n",
       "    </tr>\n",
       "    <tr>\n",
       "      <th>1345</th>\n",
       "      <td>24.0</td>\n",
       "      <td>330.5</td>\n",
       "      <td>13.800000</td>\n",
       "      <td>11</td>\n",
       "      <td>1</td>\n",
       "      <td>1</td>\n",
       "      <td>1</td>\n",
       "      <td>1</td>\n",
       "      <td>1</td>\n",
       "      <td>0</td>\n",
       "      <td>64</td>\n",
       "      <td>0</td>\n",
       "      <td>0</td>\n",
       "      <td>2</td>\n",
       "      <td>154.253</td>\n",
       "      <td>2.19350</td>\n",
       "      <td>45.2358</td>\n",
       "      <td>20.23</td>\n",
       "    </tr>\n",
       "    <tr>\n",
       "      <th>1346</th>\n",
       "      <td>16.7</td>\n",
       "      <td>492.7</td>\n",
       "      <td>29.600000</td>\n",
       "      <td>16</td>\n",
       "      <td>1</td>\n",
       "      <td>3</td>\n",
       "      <td>3</td>\n",
       "      <td>1</td>\n",
       "      <td>3</td>\n",
       "      <td>6</td>\n",
       "      <td>90</td>\n",
       "      <td>1</td>\n",
       "      <td>0</td>\n",
       "      <td>1</td>\n",
       "      <td>224.300</td>\n",
       "      <td>3.16672</td>\n",
       "      <td>63.8428</td>\n",
       "      <td>50.44</td>\n",
       "    </tr>\n",
       "    <tr>\n",
       "      <th>1347</th>\n",
       "      <td>7.3</td>\n",
       "      <td>530.6</td>\n",
       "      <td>72.800000</td>\n",
       "      <td>17</td>\n",
       "      <td>0</td>\n",
       "      <td>3</td>\n",
       "      <td>3</td>\n",
       "      <td>0</td>\n",
       "      <td>3</td>\n",
       "      <td>7</td>\n",
       "      <td>96</td>\n",
       "      <td>1</td>\n",
       "      <td>0</td>\n",
       "      <td>1</td>\n",
       "      <td>238.327</td>\n",
       "      <td>3.46972</td>\n",
       "      <td>68.7300</td>\n",
       "      <td>39.44</td>\n",
       "    </tr>\n",
       "  </tbody>\n",
       "</table>\n",
       "<p>1348 rows × 18 columns</p>\n",
       "</div>"
      ],
      "text/plain": [
       "      IC50, mmg/ml  CC50-MDCK, mmg/ml          SI  HeavyAtomCount  NHOHCount  \\\n",
       "0              2.7              500.0  185.185185              14          1   \n",
       "1              9.9              144.0   14.545455              18          0   \n",
       "2              8.3              500.0   60.240964              16          0   \n",
       "3             39.4              143.0    3.629442              17          0   \n",
       "4             25.8              500.0   19.379845              19          0   \n",
       "...            ...                ...         ...             ...        ...   \n",
       "1343         300.3              300.3    1.000000              11          0   \n",
       "1344          13.2              448.3   34.000000              16          0   \n",
       "1345          24.0              330.5   13.800000              11          1   \n",
       "1346          16.7              492.7   29.600000              16          1   \n",
       "1347           7.3              530.6   72.800000              17          0   \n",
       "\n",
       "      NOCount  NumHAфcceptors  NumHDonors  NumHeteroatoms  NumRotatableBonds  \\\n",
       "0           2               2           1               2                  2   \n",
       "1           2               2           0               2                  5   \n",
       "2           2               2           0               2                  3   \n",
       "3           3               3           0               3                  3   \n",
       "4           2               1           0               2                  5   \n",
       "...       ...             ...         ...             ...                ...   \n",
       "1343        4               4           0               4                  2   \n",
       "1344        3               3           0               3                  5   \n",
       "1345        1               1           1               1                  0   \n",
       "1346        3               3           1               3                  6   \n",
       "1347        3               3           0               3                  7   \n",
       "\n",
       "      NumValenceElectrons  NumAromaticRings  NumAliphaticHeterocycles  \\\n",
       "0                      80                 0                         0   \n",
       "1                     104                 0                         0   \n",
       "2                      92                 0                         0   \n",
       "3                      98                 0                         0   \n",
       "4                     110                 0                         0   \n",
       "...                   ...               ...                       ...   \n",
       "1343                   64                 0                         1   \n",
       "1344                   90                 1                         0   \n",
       "1345                   64                 0                         0   \n",
       "1346                   90                 1                         0   \n",
       "1347                   96                 1                         0   \n",
       "\n",
       "      RingCount       MW     LogP       MR   TPSA  \n",
       "0             2  195.306  2.26590  58.6168  32.59  \n",
       "1             2  250.430  3.61540  79.3190  15.60  \n",
       "2             2  222.376  2.83520  70.0850  15.60  \n",
       "3             2  239.359  2.30600  67.6630  29.54  \n",
       "4             2  265.465  3.76000  83.6644  12.36  \n",
       "...         ...      ...      ...      ...    ...  \n",
       "1343          1  159.185 -0.50840  39.2750  38.77  \n",
       "1344          1  224.300  2.93552  64.0430  39.44  \n",
       "1345          2  154.253  2.19350  45.2358  20.23  \n",
       "1346          1  224.300  3.16672  63.8428  50.44  \n",
       "1347          1  238.327  3.46972  68.7300  39.44  \n",
       "\n",
       "[1348 rows x 18 columns]"
      ]
     },
     "execution_count": 53,
     "metadata": {},
     "output_type": "execute_result"
    }
   ],
   "source": [
    "data = pd.read_excel('sample_no_outliers.xlsx')\n",
    "data"
   ]
  },
  {
   "cell_type": "code",
   "execution_count": 54,
   "id": "9e7b811b-38bd-40a8-8173-f9d632b4d545",
   "metadata": {
    "id": "9e7b811b-38bd-40a8-8173-f9d632b4d545"
   },
   "outputs": [],
   "source": [
    "X_train, X_test, y_train, y_test = train_test_split(data, y,  test_size=0.5, random_state=42)\n",
    "X_train, X_validation, y_train, y_validation = train_test_split(X_train, y_train,  test_size=0.7, random_state=42)"
   ]
  },
  {
   "cell_type": "code",
   "execution_count": 55,
   "id": "b3559f76-7ee0-4127-bcbe-c09a436075e5",
   "metadata": {
    "id": "b3559f76-7ee0-4127-bcbe-c09a436075e5"
   },
   "outputs": [],
   "source": [
    "degree = 2\n",
    "polyreg = PolynomialFeatures(degree)\n",
    "linreg = LinearRegression()\n",
    "model = make_pipeline(polyreg, linreg)\n",
    "scores = cross_val_score(model, X_train, y_train, cv=5, scoring='neg_mean_squared_error')"
   ]
  },
  {
   "cell_type": "code",
   "execution_count": 56,
   "id": "44c4ceb1-d9ea-4577-a753-337106f39517",
   "metadata": {
    "id": "44c4ceb1-d9ea-4577-a753-337106f39517",
    "outputId": "0df33d9c-41fc-48e0-8688-d0d2d34e1eac"
   },
   "outputs": [
    {
     "data": {
      "text/html": [
       "<style>#sk-container-id-2 {color: black;background-color: white;}#sk-container-id-2 pre{padding: 0;}#sk-container-id-2 div.sk-toggleable {background-color: white;}#sk-container-id-2 label.sk-toggleable__label {cursor: pointer;display: block;width: 100%;margin-bottom: 0;padding: 0.3em;box-sizing: border-box;text-align: center;}#sk-container-id-2 label.sk-toggleable__label-arrow:before {content: \"▸\";float: left;margin-right: 0.25em;color: #696969;}#sk-container-id-2 label.sk-toggleable__label-arrow:hover:before {color: black;}#sk-container-id-2 div.sk-estimator:hover label.sk-toggleable__label-arrow:before {color: black;}#sk-container-id-2 div.sk-toggleable__content {max-height: 0;max-width: 0;overflow: hidden;text-align: left;background-color: #f0f8ff;}#sk-container-id-2 div.sk-toggleable__content pre {margin: 0.2em;color: black;border-radius: 0.25em;background-color: #f0f8ff;}#sk-container-id-2 input.sk-toggleable__control:checked~div.sk-toggleable__content {max-height: 200px;max-width: 100%;overflow: auto;}#sk-container-id-2 input.sk-toggleable__control:checked~label.sk-toggleable__label-arrow:before {content: \"▾\";}#sk-container-id-2 div.sk-estimator input.sk-toggleable__control:checked~label.sk-toggleable__label {background-color: #d4ebff;}#sk-container-id-2 div.sk-label input.sk-toggleable__control:checked~label.sk-toggleable__label {background-color: #d4ebff;}#sk-container-id-2 input.sk-hidden--visually {border: 0;clip: rect(1px 1px 1px 1px);clip: rect(1px, 1px, 1px, 1px);height: 1px;margin: -1px;overflow: hidden;padding: 0;position: absolute;width: 1px;}#sk-container-id-2 div.sk-estimator {font-family: monospace;background-color: #f0f8ff;border: 1px dotted black;border-radius: 0.25em;box-sizing: border-box;margin-bottom: 0.5em;}#sk-container-id-2 div.sk-estimator:hover {background-color: #d4ebff;}#sk-container-id-2 div.sk-parallel-item::after {content: \"\";width: 100%;border-bottom: 1px solid gray;flex-grow: 1;}#sk-container-id-2 div.sk-label:hover label.sk-toggleable__label {background-color: #d4ebff;}#sk-container-id-2 div.sk-serial::before {content: \"\";position: absolute;border-left: 1px solid gray;box-sizing: border-box;top: 0;bottom: 0;left: 50%;z-index: 0;}#sk-container-id-2 div.sk-serial {display: flex;flex-direction: column;align-items: center;background-color: white;padding-right: 0.2em;padding-left: 0.2em;position: relative;}#sk-container-id-2 div.sk-item {position: relative;z-index: 1;}#sk-container-id-2 div.sk-parallel {display: flex;align-items: stretch;justify-content: center;background-color: white;position: relative;}#sk-container-id-2 div.sk-item::before, #sk-container-id-2 div.sk-parallel-item::before {content: \"\";position: absolute;border-left: 1px solid gray;box-sizing: border-box;top: 0;bottom: 0;left: 50%;z-index: -1;}#sk-container-id-2 div.sk-parallel-item {display: flex;flex-direction: column;z-index: 1;position: relative;background-color: white;}#sk-container-id-2 div.sk-parallel-item:first-child::after {align-self: flex-end;width: 50%;}#sk-container-id-2 div.sk-parallel-item:last-child::after {align-self: flex-start;width: 50%;}#sk-container-id-2 div.sk-parallel-item:only-child::after {width: 0;}#sk-container-id-2 div.sk-dashed-wrapped {border: 1px dashed gray;margin: 0 0.4em 0.5em 0.4em;box-sizing: border-box;padding-bottom: 0.4em;background-color: white;}#sk-container-id-2 div.sk-label label {font-family: monospace;font-weight: bold;display: inline-block;line-height: 1.2em;}#sk-container-id-2 div.sk-label-container {text-align: center;}#sk-container-id-2 div.sk-container {/* jupyter's `normalize.less` sets `[hidden] { display: none; }` but bootstrap.min.css set `[hidden] { display: none !important; }` so we also need the `!important` here to be able to override the default hidden behavior on the sphinx rendered scikit-learn.org. See: https://github.com/scikit-learn/scikit-learn/issues/21755 */display: inline-block !important;position: relative;}#sk-container-id-2 div.sk-text-repr-fallback {display: none;}</style><div id=\"sk-container-id-2\" class=\"sk-top-container\"><div class=\"sk-text-repr-fallback\"><pre>Pipeline(steps=[(&#x27;polynomialfeatures&#x27;, PolynomialFeatures()),\n",
       "                (&#x27;linearregression&#x27;, LinearRegression())])</pre><b>In a Jupyter environment, please rerun this cell to show the HTML representation or trust the notebook. <br />On GitHub, the HTML representation is unable to render, please try loading this page with nbviewer.org.</b></div><div class=\"sk-container\" hidden><div class=\"sk-item sk-dashed-wrapped\"><div class=\"sk-label-container\"><div class=\"sk-label sk-toggleable\"><input class=\"sk-toggleable__control sk-hidden--visually\" id=\"sk-estimator-id-4\" type=\"checkbox\" ><label for=\"sk-estimator-id-4\" class=\"sk-toggleable__label sk-toggleable__label-arrow\">Pipeline</label><div class=\"sk-toggleable__content\"><pre>Pipeline(steps=[(&#x27;polynomialfeatures&#x27;, PolynomialFeatures()),\n",
       "                (&#x27;linearregression&#x27;, LinearRegression())])</pre></div></div></div><div class=\"sk-serial\"><div class=\"sk-item\"><div class=\"sk-estimator sk-toggleable\"><input class=\"sk-toggleable__control sk-hidden--visually\" id=\"sk-estimator-id-5\" type=\"checkbox\" ><label for=\"sk-estimator-id-5\" class=\"sk-toggleable__label sk-toggleable__label-arrow\">PolynomialFeatures</label><div class=\"sk-toggleable__content\"><pre>PolynomialFeatures()</pre></div></div></div><div class=\"sk-item\"><div class=\"sk-estimator sk-toggleable\"><input class=\"sk-toggleable__control sk-hidden--visually\" id=\"sk-estimator-id-6\" type=\"checkbox\" ><label for=\"sk-estimator-id-6\" class=\"sk-toggleable__label sk-toggleable__label-arrow\">LinearRegression</label><div class=\"sk-toggleable__content\"><pre>LinearRegression()</pre></div></div></div></div></div></div></div>"
      ],
      "text/plain": [
       "Pipeline(steps=[('polynomialfeatures', PolynomialFeatures()),\n",
       "                ('linearregression', LinearRegression())])"
      ]
     },
     "execution_count": 56,
     "metadata": {},
     "output_type": "execute_result"
    }
   ],
   "source": [
    "model.fit(X_train, y_train)"
   ]
  },
  {
   "cell_type": "code",
   "execution_count": 57,
   "id": "ea175e11-9b52-4f49-8c19-2fac6f199a47",
   "metadata": {
    "id": "ea175e11-9b52-4f49-8c19-2fac6f199a47"
   },
   "outputs": [],
   "source": [
    "y_pred = model.predict(X_test)\n",
    "mean_mse = -scores.mean()  # Поскольку cross_val_score возвращает отрицательное MSE, возьмем его с отрицательным знаком"
   ]
  },
  {
   "cell_type": "code",
   "execution_count": 58,
   "id": "78cb5334-8169-4f83-8ae5-a94dab0cc431",
   "metadata": {
    "id": "78cb5334-8169-4f83-8ae5-a94dab0cc431",
    "outputId": "7068f9ec-9071-44c5-99e0-03c3553f0e8b"
   },
   "outputs": [
    {
     "name": "stdout",
     "output_type": "stream",
     "text": [
      "0.0006892670679154153\n"
     ]
    }
   ],
   "source": [
    "print(mean_mse)"
   ]
  },
  {
   "cell_type": "code",
   "execution_count": 59,
   "id": "6c4172a2-f661-4d24-9c42-9de8f83c7a83",
   "metadata": {
    "id": "6c4172a2-f661-4d24-9c42-9de8f83c7a83",
    "outputId": "a94996bf-8afe-493a-f692-f7f99d88c600"
   },
   "outputs": [
    {
     "name": "stdout",
     "output_type": "stream",
     "text": [
      "Реальная MAE =  3.872904164263786e-10\n",
      "Реальная MSE =  5.212469256442932e-19\n",
      "Относительная RMSE =  1.3762569029562816e-11\n",
      "R2 =  1.0\n"
     ]
    }
   ],
   "source": [
    "metriki(y_pred, y_test)"
   ]
  },
  {
   "cell_type": "markdown",
   "id": "lzndSfEC5CCr",
   "metadata": {
    "id": "lzndSfEC5CCr"
   },
   "source": [
    "Получили хорошие значения показателей, в том числе R^2 = 1, но эти значения немного хуже предыдущих. Значит, модель оптимальна."
   ]
  },
  {
   "cell_type": "markdown",
   "id": "Igx1c2sG5tjQ",
   "metadata": {
    "id": "Igx1c2sG5tjQ"
   },
   "source": [
    "Построим график обучения"
   ]
  },
  {
   "cell_type": "code",
   "execution_count": 60,
   "id": "25b95f21-f35b-407d-ab75-cea371b15df3",
   "metadata": {
    "id": "25b95f21-f35b-407d-ab75-cea371b15df3",
    "outputId": "76cb6572-528d-416c-e2b9-7bb118b0e86e"
   },
   "outputs": [
    {
     "data": {
      "image/png": "[encoded data removed]",
      "text/plain": [
       "<Figure size 640x480 with 1 Axes>"
      ]
     },
     "metadata": {},
     "output_type": "display_data"
    }
   ],
   "source": [
    "train_sizes, train_scores, test_scores = learning_curve(model, X_train, y_train, cv=5, scoring='neg_mean_squared_error')\n",
    "\n",
    "train_scores_mean = -np.mean(train_scores, axis=1)\n",
    "test_scores_mean = -np.mean(test_scores, axis=1)\n",
    "\n",
    "plt.figure()\n",
    "plt.title(\"График обучения\")\n",
    "plt.xlabel(\"Размер обучающего набора\")\n",
    "plt.ylabel(\"Отрицательное MSE\")\n",
    "plt.grid()\n",
    "\n",
    "plt.plot(train_sizes, train_scores_mean, 'o-', label=\"Обучение\")\n",
    "plt.plot(train_sizes, test_scores_mean, 'o-', label=\"Тест\")\n",
    "\n",
    "plt.legend()\n",
    "plt.show()"
   ]
  },
  {
   "cell_type": "markdown",
   "id": "0ovD78qY6DEj",
   "metadata": {
    "id": "0ovD78qY6DEj"
   },
   "source": [
    "По графику наблюдается сходимость обучающей и тестовой выборки, это говорит о хорошем качестве модели."
   ]
  },
  {
   "cell_type": "markdown",
   "id": "WDfm4eTl6D9Q",
   "metadata": {
    "id": "WDfm4eTl6D9Q"
   },
   "source": [
    "График истинных значений vs. Предсказанных значений"
   ]
  },
  {
   "cell_type": "code",
   "execution_count": 61,
   "id": "42031e60-4cd1-4746-8934-2d032924b28b",
   "metadata": {
    "id": "42031e60-4cd1-4746-8934-2d032924b28b",
    "outputId": "ded03721-a53f-456d-ee8e-8e13d68d69e2"
   },
   "outputs": [
    {
     "data": {
      "image/png": "[encoded data removed]",
      "text/plain": [
       "<Figure size 640x480 with 1 Axes>"
      ]
     },
     "metadata": {},
     "output_type": "display_data"
    }
   ],
   "source": [
    "plt.scatter(y_test, y_pred, color='blue', label='Истинные vs. Предсказанные значения')\n",
    "plt.xlabel('Истинные значения')\n",
    "plt.ylabel('Предсказанные значения')\n",
    "plt.legend(loc='best')\n",
    "\n",
    "# Добавьте линию, чтобы показать идеальное совпадение (y = x)\n",
    "plt.plot([min(y_test), max(y_test)], [min(y_test), max(y_test)], linestyle='--', color='red')\n",
    "\n",
    "# Отобразите график\n",
    "plt.show()"
   ]
  },
  {
   "cell_type": "markdown",
   "id": "b043c4b9-4832-4e6e-a6a4-0648cf203074",
   "metadata": {
    "id": "b043c4b9-4832-4e6e-a6a4-0648cf203074"
   },
   "source": [
    "График говорит о хорошем качестве модели."
   ]
  },
  {
   "cell_type": "markdown",
   "id": "db00b2ae-6b9b-4001-b69a-5d6ea67dd6d8",
   "metadata": {
    "id": "db00b2ae-6b9b-4001-b69a-5d6ea67dd6d8"
   },
   "source": [
    "Увеличиваем степень полинома. Создаем полином 3 степени."
   ]
  },
  {
   "cell_type": "code",
   "execution_count": 62,
   "id": "e3eb1644-b895-4614-9591-c6c7a30aff25",
   "metadata": {
    "id": "e3eb1644-b895-4614-9591-c6c7a30aff25"
   },
   "outputs": [],
   "source": [
    "degree = 3\n",
    "polyreg = PolynomialFeatures(degree)\n",
    "linreg = LinearRegression()\n",
    "model = make_pipeline(polyreg, linreg)\n",
    "scores = cross_val_score(model, X_train, y_train, cv=5, scoring='neg_mean_squared_error')"
   ]
  },
  {
   "cell_type": "code",
   "execution_count": 63,
   "id": "dc37c4c4-da2f-4301-88b8-8d1bb0d103b0",
   "metadata": {
    "id": "dc37c4c4-da2f-4301-88b8-8d1bb0d103b0",
    "outputId": "f1c9b9c2-8246-45ba-8fa2-b082293164bf"
   },
   "outputs": [
    {
     "data": {
      "text/html": [
       "<style>#sk-container-id-3 {color: black;background-color: white;}#sk-container-id-3 pre{padding: 0;}#sk-container-id-3 div.sk-toggleable {background-color: white;}#sk-container-id-3 label.sk-toggleable__label {cursor: pointer;display: block;width: 100%;margin-bottom: 0;padding: 0.3em;box-sizing: border-box;text-align: center;}#sk-container-id-3 label.sk-toggleable__label-arrow:before {content: \"▸\";float: left;margin-right: 0.25em;color: #696969;}#sk-container-id-3 label.sk-toggleable__label-arrow:hover:before {color: black;}#sk-container-id-3 div.sk-estimator:hover label.sk-toggleable__label-arrow:before {color: black;}#sk-container-id-3 div.sk-toggleable__content {max-height: 0;max-width: 0;overflow: hidden;text-align: left;background-color: #f0f8ff;}#sk-container-id-3 div.sk-toggleable__content pre {margin: 0.2em;color: black;border-radius: 0.25em;background-color: #f0f8ff;}#sk-container-id-3 input.sk-toggleable__control:checked~div.sk-toggleable__content {max-height: 200px;max-width: 100%;overflow: auto;}#sk-container-id-3 input.sk-toggleable__control:checked~label.sk-toggleable__label-arrow:before {content: \"▾\";}#sk-container-id-3 div.sk-estimator input.sk-toggleable__control:checked~label.sk-toggleable__label {background-color: #d4ebff;}#sk-container-id-3 div.sk-label input.sk-toggleable__control:checked~label.sk-toggleable__label {background-color: #d4ebff;}#sk-container-id-3 input.sk-hidden--visually {border: 0;clip: rect(1px 1px 1px 1px);clip: rect(1px, 1px, 1px, 1px);height: 1px;margin: -1px;overflow: hidden;padding: 0;position: absolute;width: 1px;}#sk-container-id-3 div.sk-estimator {font-family: monospace;background-color: #f0f8ff;border: 1px dotted black;border-radius: 0.25em;box-sizing: border-box;margin-bottom: 0.5em;}#sk-container-id-3 div.sk-estimator:hover {background-color: #d4ebff;}#sk-container-id-3 div.sk-parallel-item::after {content: \"\";width: 100%;border-bottom: 1px solid gray;flex-grow: 1;}#sk-container-id-3 div.sk-label:hover label.sk-toggleable__label {background-color: #d4ebff;}#sk-container-id-3 div.sk-serial::before {content: \"\";position: absolute;border-left: 1px solid gray;box-sizing: border-box;top: 0;bottom: 0;left: 50%;z-index: 0;}#sk-container-id-3 div.sk-serial {display: flex;flex-direction: column;align-items: center;background-color: white;padding-right: 0.2em;padding-left: 0.2em;position: relative;}#sk-container-id-3 div.sk-item {position: relative;z-index: 1;}#sk-container-id-3 div.sk-parallel {display: flex;align-items: stretch;justify-content: center;background-color: white;position: relative;}#sk-container-id-3 div.sk-item::before, #sk-container-id-3 div.sk-parallel-item::before {content: \"\";position: absolute;border-left: 1px solid gray;box-sizing: border-box;top: 0;bottom: 0;left: 50%;z-index: -1;}#sk-container-id-3 div.sk-parallel-item {display: flex;flex-direction: column;z-index: 1;position: relative;background-color: white;}#sk-container-id-3 div.sk-parallel-item:first-child::after {align-self: flex-end;width: 50%;}#sk-container-id-3 div.sk-parallel-item:last-child::after {align-self: flex-start;width: 50%;}#sk-container-id-3 div.sk-parallel-item:only-child::after {width: 0;}#sk-container-id-3 div.sk-dashed-wrapped {border: 1px dashed gray;margin: 0 0.4em 0.5em 0.4em;box-sizing: border-box;padding-bottom: 0.4em;background-color: white;}#sk-container-id-3 div.sk-label label {font-family: monospace;font-weight: bold;display: inline-block;line-height: 1.2em;}#sk-container-id-3 div.sk-label-container {text-align: center;}#sk-container-id-3 div.sk-container {/* jupyter's `normalize.less` sets `[hidden] { display: none; }` but bootstrap.min.css set `[hidden] { display: none !important; }` so we also need the `!important` here to be able to override the default hidden behavior on the sphinx rendered scikit-learn.org. See: https://github.com/scikit-learn/scikit-learn/issues/21755 */display: inline-block !important;position: relative;}#sk-container-id-3 div.sk-text-repr-fallback {display: none;}</style><div id=\"sk-container-id-3\" class=\"sk-top-container\"><div class=\"sk-text-repr-fallback\"><pre>Pipeline(steps=[(&#x27;polynomialfeatures&#x27;, PolynomialFeatures(degree=3)),\n",
       "                (&#x27;linearregression&#x27;, LinearRegression())])</pre><b>In a Jupyter environment, please rerun this cell to show the HTML representation or trust the notebook. <br />On GitHub, the HTML representation is unable to render, please try loading this page with nbviewer.org.</b></div><div class=\"sk-container\" hidden><div class=\"sk-item sk-dashed-wrapped\"><div class=\"sk-label-container\"><div class=\"sk-label sk-toggleable\"><input class=\"sk-toggleable__control sk-hidden--visually\" id=\"sk-estimator-id-7\" type=\"checkbox\" ><label for=\"sk-estimator-id-7\" class=\"sk-toggleable__label sk-toggleable__label-arrow\">Pipeline</label><div class=\"sk-toggleable__content\"><pre>Pipeline(steps=[(&#x27;polynomialfeatures&#x27;, PolynomialFeatures(degree=3)),\n",
       "                (&#x27;linearregression&#x27;, LinearRegression())])</pre></div></div></div><div class=\"sk-serial\"><div class=\"sk-item\"><div class=\"sk-estimator sk-toggleable\"><input class=\"sk-toggleable__control sk-hidden--visually\" id=\"sk-estimator-id-8\" type=\"checkbox\" ><label for=\"sk-estimator-id-8\" class=\"sk-toggleable__label sk-toggleable__label-arrow\">PolynomialFeatures</label><div class=\"sk-toggleable__content\"><pre>PolynomialFeatures(degree=3)</pre></div></div></div><div class=\"sk-item\"><div class=\"sk-estimator sk-toggleable\"><input class=\"sk-toggleable__control sk-hidden--visually\" id=\"sk-estimator-id-9\" type=\"checkbox\" ><label for=\"sk-estimator-id-9\" class=\"sk-toggleable__label sk-toggleable__label-arrow\">LinearRegression</label><div class=\"sk-toggleable__content\"><pre>LinearRegression()</pre></div></div></div></div></div></div></div>"
      ],
      "text/plain": [
       "Pipeline(steps=[('polynomialfeatures', PolynomialFeatures(degree=3)),\n",
       "                ('linearregression', LinearRegression())])"
      ]
     },
     "execution_count": 63,
     "metadata": {},
     "output_type": "execute_result"
    }
   ],
   "source": [
    "model.fit(X_train, y_train)"
   ]
  },
  {
   "cell_type": "code",
   "execution_count": 64,
   "id": "34db88ac-3b4c-47a3-bd4a-e26a02851cf3",
   "metadata": {
    "id": "34db88ac-3b4c-47a3-bd4a-e26a02851cf3",
    "outputId": "777b41e1-0731-4564-955b-473243903f2b"
   },
   "outputs": [
    {
     "name": "stdout",
     "output_type": "stream",
     "text": [
      "5340.19286602982\n"
     ]
    }
   ],
   "source": [
    "y_pred = model.predict(X_test)\n",
    "mean_mse = -scores.mean()  # Поскольку cross_val_score возвращает отрицательное MSE, возьмем его с отрицательным знаком\n",
    "print(mean_mse)"
   ]
  },
  {
   "cell_type": "code",
   "execution_count": 65,
   "id": "9bba1f61-5bfa-4e8f-82cd-2cfdf2da5f35",
   "metadata": {
    "id": "9bba1f61-5bfa-4e8f-82cd-2cfdf2da5f35",
    "outputId": "3a3468a2-4beb-4aef-f7d1-0342d50ca5d9"
   },
   "outputs": [
    {
     "name": "stdout",
     "output_type": "stream",
     "text": [
      "Реальная MAE =  13.411421774275503\n",
      "Реальная MSE =  1401.31903739579\n",
      "Относительная RMSE =  0.7135859131842947\n",
      "R2 =  0.4907951445049362\n"
     ]
    }
   ],
   "source": [
    "metriki(y_pred, y_test)"
   ]
  },
  {
   "cell_type": "markdown",
   "id": "zNeuWbls65Vw",
   "metadata": {
    "id": "zNeuWbls65Vw"
   },
   "source": [
    "Значение R^2 плохое. Результат построения полинома 3 степени хуже, чем полинома 2 степени."
   ]
  },
  {
   "cell_type": "markdown",
   "id": "4yT5hST77EWS",
   "metadata": {
    "id": "4yT5hST77EWS"
   },
   "source": [
    "## Промежуточный вывод"
   ]
  },
  {
   "cell_type": "markdown",
   "id": "MdI--Quj7JUr",
   "metadata": {
    "id": "MdI--Quj7JUr"
   },
   "source": [
    "Модель отличная, но требует усложнения и доработок (например, повышения степени полинома).\n",
    "\n",
    "Для усовершенствования можно использовать градиентный бустинг и случайные леса."
   ]
  },
  {
   "cell_type": "markdown",
   "id": "v_LNQSa_7eEw",
   "metadata": {
    "id": "v_LNQSa_7eEw"
   },
   "source": [
    "## Градиентный бустинг"
   ]
  },
  {
   "cell_type": "code",
   "execution_count": 66,
   "id": "e-FG2RzI70rX",
   "metadata": {
    "id": "e-FG2RzI70rX"
   },
   "outputs": [
    {
     "name": "stdout",
     "output_type": "stream",
     "text": [
      "Fitting 5 folds for each of 243 candidates, totalling 1215 fits\n",
      "Лучшие параметры:  {'learning_rate': 0.2, 'max_depth': 3, 'min_samples_leaf': 1, 'min_samples_split': 2, 'n_estimators': 100}\n",
      "Лучшая оценка R^2: 0.99\n"
     ]
    }
   ],
   "source": [
    "from sklearn.model_selection import GridSearchCV\n",
    "from sklearn.ensemble import GradientBoostingRegressor\n",
    "\n",
    "param_grid = {\n",
    "    'n_estimators': [50, 100, 150],  # Количество базовых моделей\n",
    "    'learning_rate': [0.01, 0.1, 0.2],  # Шаг обучения\n",
    "    'max_depth': [3, 4, 5],  # Максимальная глубина деревьев\n",
    "    'min_samples_split': [2, 5, 10],  # Минимальное количество образцов, необходимых для разделения внутреннего узла\n",
    "    'min_samples_leaf': [1, 2, 4]  # Минимальное количество образцов, необходимых для листового узла\n",
    "}\n",
    "\n",
    "gb = GradientBoostingRegressor()\n",
    "\n",
    "grid_search = GridSearchCV(estimator=gb, param_grid=param_grid,\n",
    "                           cv=5, n_jobs=-1, verbose=2, scoring='r2')\n",
    "\n",
    "grid_search.fit(X_train, y_train)\n",
    "\n",
    "print(\"Лучшие параметры: \", grid_search.best_params_)\n",
    "print(\"Лучшая оценка R^2: {:.2f}\".format(grid_search.best_score_))\n",
    "\n",
    "best_gb = grid_search.best_estimator_\n",
    "predictions = best_gb.predict(X_test)"
   ]
  },
  {
   "cell_type": "markdown",
   "id": "hg4AUUHt7zVV",
   "metadata": {
    "id": "hg4AUUHt7zVV"
   },
   "source": [
    "Показатель обучения хороший"
   ]
  },
  {
   "cell_type": "markdown",
   "id": "uf9KWmM177JH",
   "metadata": {
    "id": "uf9KWmM177JH"
   },
   "source": [
    "## Случайный лес"
   ]
  },
  {
   "cell_type": "code",
   "execution_count": 67,
   "id": "PQFu2j3175hM",
   "metadata": {
    "id": "PQFu2j3175hM"
   },
   "outputs": [
    {
     "name": "stdout",
     "output_type": "stream",
     "text": [
      "Fitting 5 folds for each of 108 candidates, totalling 540 fits\n",
      "Лучшие параметры:  {'max_depth': 30, 'min_samples_leaf': 2, 'min_samples_split': 2, 'n_estimators': 50}\n",
      "Лучшая оценка R^2: 0.97\n"
     ]
    }
   ],
   "source": [
    "from sklearn.model_selection import GridSearchCV\n",
    "from sklearn.ensemble import RandomForestRegressor\n",
    "\n",
    "param_grid = {\n",
    "    'n_estimators': [50, 100, 150],  # Количество деревьев в лесу\n",
    "    'max_depth': [None, 10, 20, 30],  # Максимальная глубина деревьев\n",
    "    'min_samples_split': [2, 5, 10],  # Минимальное количество образцов, необходимых для разделения внутреннего узла\n",
    "    'min_samples_leaf': [1, 2, 4]  # Минимальное количество образцов, необходимых для листового узла\n",
    "}\n",
    "\n",
    "rf = RandomForestRegressor()\n",
    "\n",
    "grid_search = GridSearchCV(estimator=rf, param_grid=param_grid,\n",
    "                           cv=5, n_jobs=-1, verbose=2, scoring='r2')\n",
    "\n",
    "grid_search.fit(X_train, y_train)\n",
    "print(\"Лучшие параметры: \", grid_search.best_params_)\n",
    "print(\"Лучшая оценка R^2: {:.2f}\".format(grid_search.best_score_))\n",
    "\n",
    "best_rf = grid_search.best_estimator_\n",
    "predictions = best_rf.predict(X_test)"
   ]
  },
  {
   "cell_type": "markdown",
   "id": "fnKY8Qo074xM",
   "metadata": {
    "id": "fnKY8Qo074xM"
   },
   "source": [
    "Показатель обучения хороший"
   ]
  },
  {
   "cell_type": "code",
   "execution_count": null,
   "id": "e4d4f8aa-e571-47b2-8b6c-36c0ae364c1c",
   "metadata": {},
   "outputs": [],
   "source": []
  }
 ],
 "metadata": {
  "colab": {
   "provenance": [],
   "toc_visible": true
  },
  "kernelspec": {
   "display_name": "Python 3 (ipykernel)",
   "language": "python",
   "name": "python3"
  },
  "language_info": {
   "codemirror_mode": {
    "name": "ipython",
    "version": 3
   },
   "file_extension": ".py",
   "mimetype": "text/x-python",
   "name": "python",
   "nbconvert_exporter": "python",
   "pygments_lexer": "ipython3",
   "version": "3.10.8"
  }
 },
 "nbformat": 4,
 "nbformat_minor": 5
}
